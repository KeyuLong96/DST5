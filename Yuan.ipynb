{
 "cells": [
  {
   "cell_type": "markdown",
   "metadata": {},
   "source": [
    "# Step -1 : Data preprocessing"
   ]
  },
  {
   "cell_type": "code",
   "execution_count": 1,
   "metadata": {},
   "outputs": [
    {
     "name": "stderr",
     "output_type": "stream",
     "text": [
      "Using TensorFlow backend.\n"
     ]
    }
   ],
   "source": [
    "from keras.models import Sequential\n",
    "from keras.layers import Dense\n",
    "import numpy as np\n",
    "import pandas as pd"
   ]
  },
  {
   "cell_type": "code",
   "execution_count": 2,
   "metadata": {},
   "outputs": [],
   "source": [
    "#Loading the data\n",
    "data = pd.read_csv(\"url_data.csv.txt\")"
   ]
  },
  {
   "cell_type": "code",
   "execution_count": 3,
   "metadata": {},
   "outputs": [
    {
     "data": {
      "text/html": [
       "<div>\n",
       "<style scoped>\n",
       "    .dataframe tbody tr th:only-of-type {\n",
       "        vertical-align: middle;\n",
       "    }\n",
       "\n",
       "    .dataframe tbody tr th {\n",
       "        vertical-align: top;\n",
       "    }\n",
       "\n",
       "    .dataframe thead th {\n",
       "        text-align: right;\n",
       "    }\n",
       "</style>\n",
       "<table border=\"1\" class=\"dataframe\">\n",
       "  <thead>\n",
       "    <tr style=\"text-align: right;\">\n",
       "      <th></th>\n",
       "      <th>url</th>\n",
       "      <th>isMalicious</th>\n",
       "    </tr>\n",
       "  </thead>\n",
       "  <tbody>\n",
       "    <tr>\n",
       "      <td>0</td>\n",
       "      <td>songlyrics.com/news/riffd-the-shins-heartworms</td>\n",
       "      <td>0</td>\n",
       "    </tr>\n",
       "    <tr>\n",
       "      <td>1</td>\n",
       "      <td>imaging-resource.com/PRODS/olympus-e-m1-ii/oly...</td>\n",
       "      <td>0</td>\n",
       "    </tr>\n",
       "    <tr>\n",
       "      <td>2</td>\n",
       "      <td>gosugamers.net/lol/streams</td>\n",
       "      <td>0</td>\n",
       "    </tr>\n",
       "    <tr>\n",
       "      <td>3</td>\n",
       "      <td>thingiverse.com/corkyzett/collections/intlwome...</td>\n",
       "      <td>0</td>\n",
       "    </tr>\n",
       "    <tr>\n",
       "      <td>4</td>\n",
       "      <td>bausch.com/our-products/contact-lens-care/spec...</td>\n",
       "      <td>0</td>\n",
       "    </tr>\n",
       "  </tbody>\n",
       "</table>\n",
       "</div>"
      ],
      "text/plain": [
       "                                                 url  isMalicious\n",
       "0     songlyrics.com/news/riffd-the-shins-heartworms            0\n",
       "1  imaging-resource.com/PRODS/olympus-e-m1-ii/oly...            0\n",
       "2                         gosugamers.net/lol/streams            0\n",
       "3  thingiverse.com/corkyzett/collections/intlwome...            0\n",
       "4  bausch.com/our-products/contact-lens-care/spec...            0"
      ]
     },
     "execution_count": 3,
     "metadata": {},
     "output_type": "execute_result"
    }
   ],
   "source": [
    "data.head()"
   ]
  },
  {
   "cell_type": "code",
   "execution_count": 5,
   "metadata": {},
   "outputs": [
    {
     "data": {
      "text/plain": [
       "1    97399\n",
       "0    97399\n",
       "Name: isMalicious, dtype: int64"
      ]
     },
     "execution_count": 5,
     "metadata": {},
     "output_type": "execute_result"
    }
   ],
   "source": [
    "data['isMalicious'].value_counts()"
   ]
  },
  {
   "cell_type": "markdown",
   "metadata": {},
   "source": [
    "We need to split the data according to parts of the URL\n",
    "\n",
    "A typical URL could have the form http://www.example.com/index.html, which indicates a protocol (http), a hostname (www.example.com), and a file name (index.html). And in this case we don't have a protocol name."
   ]
  },
  {
   "cell_type": "code",
   "execution_count": 6,
   "metadata": {},
   "outputs": [
    {
     "data": {
      "text/html": [
       "<div>\n",
       "<style scoped>\n",
       "    .dataframe tbody tr th:only-of-type {\n",
       "        vertical-align: middle;\n",
       "    }\n",
       "\n",
       "    .dataframe tbody tr th {\n",
       "        vertical-align: top;\n",
       "    }\n",
       "\n",
       "    .dataframe thead th {\n",
       "        text-align: right;\n",
       "    }\n",
       "</style>\n",
       "<table border=\"1\" class=\"dataframe\">\n",
       "  <thead>\n",
       "    <tr style=\"text-align: right;\">\n",
       "      <th></th>\n",
       "      <th>0</th>\n",
       "      <th>1</th>\n",
       "    </tr>\n",
       "  </thead>\n",
       "  <tbody>\n",
       "    <tr>\n",
       "      <td>0</td>\n",
       "      <td>songlyrics.com</td>\n",
       "      <td>news/riffd-the-shins-heartworms</td>\n",
       "    </tr>\n",
       "    <tr>\n",
       "      <td>1</td>\n",
       "      <td>imaging-resource.com</td>\n",
       "      <td>PRODS/olympus-e-m1-ii/olympus-e-m1-iiA.HTM</td>\n",
       "    </tr>\n",
       "    <tr>\n",
       "      <td>2</td>\n",
       "      <td>gosugamers.net</td>\n",
       "      <td>lol/streams</td>\n",
       "    </tr>\n",
       "    <tr>\n",
       "      <td>3</td>\n",
       "      <td>thingiverse.com</td>\n",
       "      <td>corkyzett/collections/intlwomensday</td>\n",
       "    </tr>\n",
       "    <tr>\n",
       "      <td>4</td>\n",
       "      <td>bausch.com</td>\n",
       "      <td>our-products/contact-lens-care/specialty-lens-...</td>\n",
       "    </tr>\n",
       "  </tbody>\n",
       "</table>\n",
       "</div>"
      ],
      "text/plain": [
       "                      0                                                  1\n",
       "0        songlyrics.com                    news/riffd-the-shins-heartworms\n",
       "1  imaging-resource.com         PRODS/olympus-e-m1-ii/olympus-e-m1-iiA.HTM\n",
       "2        gosugamers.net                                        lol/streams\n",
       "3       thingiverse.com                corkyzett/collections/intlwomensday\n",
       "4            bausch.com  our-products/contact-lens-care/specialty-lens-..."
      ]
     },
     "execution_count": 6,
     "metadata": {},
     "output_type": "execute_result"
    }
   ],
   "source": [
    "seperation_domain_name = data['url'].str.split(\"/\",1,expand = True)\n",
    "seperation_domain_name.head()"
   ]
  },
  {
   "cell_type": "code",
   "execution_count": 7,
   "metadata": {},
   "outputs": [
    {
     "data": {
      "text/html": [
       "<div>\n",
       "<style scoped>\n",
       "    .dataframe tbody tr th:only-of-type {\n",
       "        vertical-align: middle;\n",
       "    }\n",
       "\n",
       "    .dataframe tbody tr th {\n",
       "        vertical-align: top;\n",
       "    }\n",
       "\n",
       "    .dataframe thead th {\n",
       "        text-align: right;\n",
       "    }\n",
       "</style>\n",
       "<table border=\"1\" class=\"dataframe\">\n",
       "  <thead>\n",
       "    <tr style=\"text-align: right;\">\n",
       "      <th></th>\n",
       "      <th>domain_name</th>\n",
       "      <th>address</th>\n",
       "    </tr>\n",
       "  </thead>\n",
       "  <tbody>\n",
       "    <tr>\n",
       "      <td>0</td>\n",
       "      <td>songlyrics.com</td>\n",
       "      <td>news/riffd-the-shins-heartworms</td>\n",
       "    </tr>\n",
       "    <tr>\n",
       "      <td>1</td>\n",
       "      <td>imaging-resource.com</td>\n",
       "      <td>PRODS/olympus-e-m1-ii/olympus-e-m1-iiA.HTM</td>\n",
       "    </tr>\n",
       "    <tr>\n",
       "      <td>2</td>\n",
       "      <td>gosugamers.net</td>\n",
       "      <td>lol/streams</td>\n",
       "    </tr>\n",
       "    <tr>\n",
       "      <td>3</td>\n",
       "      <td>thingiverse.com</td>\n",
       "      <td>corkyzett/collections/intlwomensday</td>\n",
       "    </tr>\n",
       "    <tr>\n",
       "      <td>4</td>\n",
       "      <td>bausch.com</td>\n",
       "      <td>our-products/contact-lens-care/specialty-lens-...</td>\n",
       "    </tr>\n",
       "  </tbody>\n",
       "</table>\n",
       "</div>"
      ],
      "text/plain": [
       "            domain_name                                            address\n",
       "0        songlyrics.com                    news/riffd-the-shins-heartworms\n",
       "1  imaging-resource.com         PRODS/olympus-e-m1-ii/olympus-e-m1-iiA.HTM\n",
       "2        gosugamers.net                                        lol/streams\n",
       "3       thingiverse.com                corkyzett/collections/intlwomensday\n",
       "4            bausch.com  our-products/contact-lens-care/specialty-lens-..."
      ]
     },
     "execution_count": 7,
     "metadata": {},
     "output_type": "execute_result"
    }
   ],
   "source": [
    "seperation_domain_name.columns=[\"domain_name\",\"address\"]\n",
    "seperation_domain_name.head()"
   ]
  },
  {
   "cell_type": "code",
   "execution_count": 8,
   "metadata": {},
   "outputs": [
    {
     "data": {
      "text/html": [
       "<div>\n",
       "<style scoped>\n",
       "    .dataframe tbody tr th:only-of-type {\n",
       "        vertical-align: middle;\n",
       "    }\n",
       "\n",
       "    .dataframe tbody tr th {\n",
       "        vertical-align: top;\n",
       "    }\n",
       "\n",
       "    .dataframe thead th {\n",
       "        text-align: right;\n",
       "    }\n",
       "</style>\n",
       "<table border=\"1\" class=\"dataframe\">\n",
       "  <thead>\n",
       "    <tr style=\"text-align: right;\">\n",
       "      <th></th>\n",
       "      <th>domain_name</th>\n",
       "      <th>address</th>\n",
       "      <th>isMalicious</th>\n",
       "    </tr>\n",
       "  </thead>\n",
       "  <tbody>\n",
       "    <tr>\n",
       "      <td>0</td>\n",
       "      <td>songlyrics.com</td>\n",
       "      <td>news/riffd-the-shins-heartworms</td>\n",
       "      <td>0</td>\n",
       "    </tr>\n",
       "    <tr>\n",
       "      <td>1</td>\n",
       "      <td>imaging-resource.com</td>\n",
       "      <td>PRODS/olympus-e-m1-ii/olympus-e-m1-iiA.HTM</td>\n",
       "      <td>0</td>\n",
       "    </tr>\n",
       "    <tr>\n",
       "      <td>2</td>\n",
       "      <td>gosugamers.net</td>\n",
       "      <td>lol/streams</td>\n",
       "      <td>0</td>\n",
       "    </tr>\n",
       "    <tr>\n",
       "      <td>3</td>\n",
       "      <td>thingiverse.com</td>\n",
       "      <td>corkyzett/collections/intlwomensday</td>\n",
       "      <td>0</td>\n",
       "    </tr>\n",
       "    <tr>\n",
       "      <td>4</td>\n",
       "      <td>bausch.com</td>\n",
       "      <td>our-products/contact-lens-care/specialty-lens-...</td>\n",
       "      <td>0</td>\n",
       "    </tr>\n",
       "    <tr>\n",
       "      <td>...</td>\n",
       "      <td>...</td>\n",
       "      <td>...</td>\n",
       "      <td>...</td>\n",
       "    </tr>\n",
       "    <tr>\n",
       "      <td>194793</td>\n",
       "      <td>spawash.gr</td>\n",
       "      <td>uban/dropbox/proposal/index.php</td>\n",
       "      <td>1</td>\n",
       "    </tr>\n",
       "    <tr>\n",
       "      <td>194794</td>\n",
       "      <td>formstack.com</td>\n",
       "      <td>forms/twtw13</td>\n",
       "      <td>1</td>\n",
       "    </tr>\n",
       "    <tr>\n",
       "      <td>194795</td>\n",
       "      <td>rooferexpert.com</td>\n",
       "      <td>css/8933617-dosar-nr-1817842015/394c-4735-8239...</td>\n",
       "      <td>1</td>\n",
       "    </tr>\n",
       "    <tr>\n",
       "      <td>194796</td>\n",
       "      <td>fc2.com</td>\n",
       "      <td>laygwvh8</td>\n",
       "      <td>1</td>\n",
       "    </tr>\n",
       "    <tr>\n",
       "      <td>194797</td>\n",
       "      <td>tacticalpvp.us</td>\n",
       "      <td>login.php</td>\n",
       "      <td>1</td>\n",
       "    </tr>\n",
       "  </tbody>\n",
       "</table>\n",
       "<p>194798 rows × 3 columns</p>\n",
       "</div>"
      ],
      "text/plain": [
       "                 domain_name  \\\n",
       "0             songlyrics.com   \n",
       "1       imaging-resource.com   \n",
       "2             gosugamers.net   \n",
       "3            thingiverse.com   \n",
       "4                 bausch.com   \n",
       "...                      ...   \n",
       "194793            spawash.gr   \n",
       "194794         formstack.com   \n",
       "194795      rooferexpert.com   \n",
       "194796               fc2.com   \n",
       "194797        tacticalpvp.us   \n",
       "\n",
       "                                                  address  isMalicious  \n",
       "0                         news/riffd-the-shins-heartworms            0  \n",
       "1              PRODS/olympus-e-m1-ii/olympus-e-m1-iiA.HTM            0  \n",
       "2                                             lol/streams            0  \n",
       "3                     corkyzett/collections/intlwomensday            0  \n",
       "4       our-products/contact-lens-care/specialty-lens-...            0  \n",
       "...                                                   ...          ...  \n",
       "194793                    uban/dropbox/proposal/index.php            1  \n",
       "194794                                       forms/twtw13            1  \n",
       "194795  css/8933617-dosar-nr-1817842015/394c-4735-8239...            1  \n",
       "194796                                           laygwvh8            1  \n",
       "194797                                          login.php            1  \n",
       "\n",
       "[194798 rows x 3 columns]"
      ]
     },
     "execution_count": 8,
     "metadata": {},
     "output_type": "execute_result"
    }
   ],
   "source": [
    "seperation_domain_name['isMalicious'] = pd.Series(data['isMalicious'], index=seperation_domain_name.index)\n",
    "seperation_domain_name"
   ]
  },
  {
   "cell_type": "code",
   "execution_count": 9,
   "metadata": {},
   "outputs": [
    {
     "data": {
      "text/plain": [
       "pandas.core.frame.DataFrame"
      ]
     },
     "execution_count": 9,
     "metadata": {},
     "output_type": "execute_result"
    }
   ],
   "source": [
    "pre_data = seperation_domain_name.copy()\n",
    "type(pre_data)"
   ]
  },
  {
   "cell_type": "markdown",
   "metadata": {},
   "source": [
    "# Step -2 :Features Extraction"
   ]
  },
  {
   "cell_type": "code",
   "execution_count": 10,
   "metadata": {},
   "outputs": [
    {
     "data": {
      "text/html": [
       "<div>\n",
       "<style scoped>\n",
       "    .dataframe tbody tr th:only-of-type {\n",
       "        vertical-align: middle;\n",
       "    }\n",
       "\n",
       "    .dataframe tbody tr th {\n",
       "        vertical-align: top;\n",
       "    }\n",
       "\n",
       "    .dataframe thead th {\n",
       "        text-align: right;\n",
       "    }\n",
       "</style>\n",
       "<table border=\"1\" class=\"dataframe\">\n",
       "  <thead>\n",
       "    <tr style=\"text-align: right;\">\n",
       "      <th></th>\n",
       "      <th>domain_name</th>\n",
       "      <th>address</th>\n",
       "      <th>isMalicious</th>\n",
       "    </tr>\n",
       "  </thead>\n",
       "  <tbody>\n",
       "    <tr>\n",
       "      <td>97399</td>\n",
       "      <td>at.ua</td>\n",
       "      <td>8/recovery</td>\n",
       "      <td>1</td>\n",
       "    </tr>\n",
       "    <tr>\n",
       "      <td>97400</td>\n",
       "      <td>giveitallhereqq.com</td>\n",
       "      <td>69.exe</td>\n",
       "      <td>1</td>\n",
       "    </tr>\n",
       "    <tr>\n",
       "      <td>97401</td>\n",
       "      <td>bget.ru</td>\n",
       "      <td>None</td>\n",
       "      <td>1</td>\n",
       "    </tr>\n",
       "    <tr>\n",
       "      <td>97402</td>\n",
       "      <td>shucksbr.com</td>\n",
       "      <td>files/impotsfr</td>\n",
       "      <td>1</td>\n",
       "    </tr>\n",
       "    <tr>\n",
       "      <td>97403</td>\n",
       "      <td>midnightgarage.net</td>\n",
       "      <td>trekimages/x574gmwxuo9ruyma</td>\n",
       "      <td>1</td>\n",
       "    </tr>\n",
       "    <tr>\n",
       "      <td>...</td>\n",
       "      <td>...</td>\n",
       "      <td>...</td>\n",
       "      <td>...</td>\n",
       "    </tr>\n",
       "    <tr>\n",
       "      <td>194793</td>\n",
       "      <td>spawash.gr</td>\n",
       "      <td>uban/dropbox/proposal/index.php</td>\n",
       "      <td>1</td>\n",
       "    </tr>\n",
       "    <tr>\n",
       "      <td>194794</td>\n",
       "      <td>formstack.com</td>\n",
       "      <td>forms/twtw13</td>\n",
       "      <td>1</td>\n",
       "    </tr>\n",
       "    <tr>\n",
       "      <td>194795</td>\n",
       "      <td>rooferexpert.com</td>\n",
       "      <td>css/8933617-dosar-nr-1817842015/394c-4735-8239...</td>\n",
       "      <td>1</td>\n",
       "    </tr>\n",
       "    <tr>\n",
       "      <td>194796</td>\n",
       "      <td>fc2.com</td>\n",
       "      <td>laygwvh8</td>\n",
       "      <td>1</td>\n",
       "    </tr>\n",
       "    <tr>\n",
       "      <td>194797</td>\n",
       "      <td>tacticalpvp.us</td>\n",
       "      <td>login.php</td>\n",
       "      <td>1</td>\n",
       "    </tr>\n",
       "  </tbody>\n",
       "</table>\n",
       "<p>97399 rows × 3 columns</p>\n",
       "</div>"
      ],
      "text/plain": [
       "                domain_name  \\\n",
       "97399                 at.ua   \n",
       "97400   giveitallhereqq.com   \n",
       "97401               bget.ru   \n",
       "97402          shucksbr.com   \n",
       "97403    midnightgarage.net   \n",
       "...                     ...   \n",
       "194793           spawash.gr   \n",
       "194794        formstack.com   \n",
       "194795     rooferexpert.com   \n",
       "194796              fc2.com   \n",
       "194797       tacticalpvp.us   \n",
       "\n",
       "                                                  address  isMalicious  \n",
       "97399                                          8/recovery            1  \n",
       "97400                                              69.exe            1  \n",
       "97401                                                None            1  \n",
       "97402                                      files/impotsfr            1  \n",
       "97403                         trekimages/x574gmwxuo9ruyma            1  \n",
       "...                                                   ...          ...  \n",
       "194793                    uban/dropbox/proposal/index.php            1  \n",
       "194794                                       forms/twtw13            1  \n",
       "194795  css/8933617-dosar-nr-1817842015/394c-4735-8239...            1  \n",
       "194796                                           laygwvh8            1  \n",
       "194797                                          login.php            1  \n",
       "\n",
       "[97399 rows x 3 columns]"
      ]
     },
     "execution_count": 10,
     "metadata": {},
     "output_type": "execute_result"
    }
   ],
   "source": [
    "seperation_domain_name[seperation_domain_name['isMalicious']==1]"
   ]
  },
  {
   "cell_type": "markdown",
   "metadata": {},
   "source": [
    "**Feature-1**\n",
    "\n",
    "1.Lenghth of the URL\n",
    "\n",
    "(1)Long URL to Hide the Suspicious Part"
   ]
  },
  {
   "cell_type": "code",
   "execution_count": 11,
   "metadata": {},
   "outputs": [
    {
     "data": {
      "text/html": [
       "<div>\n",
       "<style scoped>\n",
       "    .dataframe tbody tr th:only-of-type {\n",
       "        vertical-align: middle;\n",
       "    }\n",
       "\n",
       "    .dataframe tbody tr th {\n",
       "        vertical-align: top;\n",
       "    }\n",
       "\n",
       "    .dataframe thead th {\n",
       "        text-align: right;\n",
       "    }\n",
       "</style>\n",
       "<table border=\"1\" class=\"dataframe\">\n",
       "  <thead>\n",
       "    <tr style=\"text-align: right;\">\n",
       "      <th></th>\n",
       "      <th>domain_name</th>\n",
       "      <th>address</th>\n",
       "      <th>isMalicious</th>\n",
       "      <th>length</th>\n",
       "    </tr>\n",
       "  </thead>\n",
       "  <tbody>\n",
       "    <tr>\n",
       "      <td>0</td>\n",
       "      <td>songlyrics.com</td>\n",
       "      <td>news/riffd-the-shins-heartworms</td>\n",
       "      <td>0</td>\n",
       "      <td>46</td>\n",
       "    </tr>\n",
       "    <tr>\n",
       "      <td>1</td>\n",
       "      <td>imaging-resource.com</td>\n",
       "      <td>PRODS/olympus-e-m1-ii/olympus-e-m1-iiA.HTM</td>\n",
       "      <td>0</td>\n",
       "      <td>63</td>\n",
       "    </tr>\n",
       "    <tr>\n",
       "      <td>2</td>\n",
       "      <td>gosugamers.net</td>\n",
       "      <td>lol/streams</td>\n",
       "      <td>0</td>\n",
       "      <td>26</td>\n",
       "    </tr>\n",
       "    <tr>\n",
       "      <td>3</td>\n",
       "      <td>thingiverse.com</td>\n",
       "      <td>corkyzett/collections/intlwomensday</td>\n",
       "      <td>0</td>\n",
       "      <td>51</td>\n",
       "    </tr>\n",
       "    <tr>\n",
       "      <td>4</td>\n",
       "      <td>bausch.com</td>\n",
       "      <td>our-products/contact-lens-care/specialty-lens-...</td>\n",
       "      <td>0</td>\n",
       "      <td>70</td>\n",
       "    </tr>\n",
       "  </tbody>\n",
       "</table>\n",
       "</div>"
      ],
      "text/plain": [
       "            domain_name                                            address  \\\n",
       "0        songlyrics.com                    news/riffd-the-shins-heartworms   \n",
       "1  imaging-resource.com         PRODS/olympus-e-m1-ii/olympus-e-m1-iiA.HTM   \n",
       "2        gosugamers.net                                        lol/streams   \n",
       "3       thingiverse.com                corkyzett/collections/intlwomensday   \n",
       "4            bausch.com  our-products/contact-lens-care/specialty-lens-...   \n",
       "\n",
       "   isMalicious  length  \n",
       "0            0      46  \n",
       "1            0      63  \n",
       "2            0      26  \n",
       "3            0      51  \n",
       "4            0      70  "
      ]
     },
     "execution_count": 11,
     "metadata": {},
     "output_type": "execute_result"
    }
   ],
   "source": [
    "pre_data['length'] = data['url'].apply(len)\n",
    "pre_data.head()"
   ]
  },
  {
   "cell_type": "code",
   "execution_count": 12,
   "metadata": {},
   "outputs": [
    {
     "data": {
      "text/plain": [
       "26      4449\n",
       "25      4193\n",
       "30      4145\n",
       "27      4099\n",
       "31      4094\n",
       "        ... \n",
       "1908       1\n",
       "435        1\n",
       "688        1\n",
       "430        1\n",
       "1023       1\n",
       "Name: length, Length: 579, dtype: int64"
      ]
     },
     "execution_count": 12,
     "metadata": {},
     "output_type": "execute_result"
    }
   ],
   "source": [
    "pre_data['length'].value_counts(ascending=False)"
   ]
  },
  {
   "cell_type": "code",
   "execution_count": 13,
   "metadata": {},
   "outputs": [
    {
     "data": {
      "text/plain": [
       "26     4449\n",
       "25     4193\n",
       "30     4145\n",
       "27     4099\n",
       "31     4094\n",
       "       ... \n",
       "102     342\n",
       "150     340\n",
       "9       339\n",
       "106     330\n",
       "108     325\n",
       "Name: length, Length: 100, dtype: int64"
      ]
     },
     "execution_count": 13,
     "metadata": {},
     "output_type": "execute_result"
    }
   ],
   "source": [
    "pre_data['length'].value_counts(ascending=False)[0:100]"
   ]
  },
  {
   "cell_type": "code",
   "execution_count": 14,
   "metadata": {},
   "outputs": [],
   "source": [
    "import matplotlib.pyplot as plt "
   ]
  },
  {
   "cell_type": "code",
   "execution_count": 15,
   "metadata": {},
   "outputs": [
    {
     "data": {
      "text/plain": [
       "<matplotlib.axes._subplots.AxesSubplot at 0x1b27ceac888>"
      ]
     },
     "execution_count": 15,
     "metadata": {},
     "output_type": "execute_result"
    },
    {
     "data": {
      "image/png": "[encoded data removed]",
      "text/plain": [
       "<Figure size 432x288 with 1 Axes>"
      ]
     },
     "metadata": {
      "needs_background": "light"
     },
     "output_type": "display_data"
    }
   ],
   "source": [
    "pre_data['length'].value_counts().plot()"
   ]
  },
  {
   "cell_type": "code",
   "execution_count": 16,
   "metadata": {},
   "outputs": [
    {
     "data": {
      "text/plain": [
       "<matplotlib.axes._subplots.AxesSubplot at 0x1b27ce25208>"
      ]
     },
     "execution_count": 16,
     "metadata": {},
     "output_type": "execute_result"
    },
    {
     "data": {
      "image/png": "[encoded data removed]",
      "text/plain": [
       "<Figure size 432x288 with 1 Axes>"
      ]
     },
     "metadata": {
      "needs_background": "light"
     },
     "output_type": "display_data"
    }
   ],
   "source": [
    "pre_data['length'].value_counts(ascending=False)[0:100].plot()"
   ]
  },
  {
   "cell_type": "code",
   "execution_count": 17,
   "metadata": {},
   "outputs": [],
   "source": [
    "def long_url(l):\n",
    "    l= str(l)\n",
    "    \"\"\"This function is defined in order to differntiate website based on the length of the URL\"\"\"\n",
    "    if len(l) < 20:\n",
    "        return 0\n",
    "    elif len(l) <= 40:\n",
    "        return 1\n",
    "    elif len(l) <= 60:\n",
    "        return 2\n",
    "    elif len(l) <= 80:\n",
    "        return 3\n",
    "    elif len(l) <= 100:\n",
    "        return 4\n",
    "    return 5"
   ]
  },
  {
   "cell_type": "code",
   "execution_count": 18,
   "metadata": {},
   "outputs": [
    {
     "data": {
      "text/html": [
       "<div>\n",
       "<style scoped>\n",
       "    .dataframe tbody tr th:only-of-type {\n",
       "        vertical-align: middle;\n",
       "    }\n",
       "\n",
       "    .dataframe tbody tr th {\n",
       "        vertical-align: top;\n",
       "    }\n",
       "\n",
       "    .dataframe thead th {\n",
       "        text-align: right;\n",
       "    }\n",
       "</style>\n",
       "<table border=\"1\" class=\"dataframe\">\n",
       "  <thead>\n",
       "    <tr style=\"text-align: right;\">\n",
       "      <th></th>\n",
       "      <th>domain_name</th>\n",
       "      <th>address</th>\n",
       "      <th>isMalicious</th>\n",
       "      <th>length</th>\n",
       "    </tr>\n",
       "  </thead>\n",
       "  <tbody>\n",
       "    <tr>\n",
       "      <td>0</td>\n",
       "      <td>songlyrics.com</td>\n",
       "      <td>news/riffd-the-shins-heartworms</td>\n",
       "      <td>0</td>\n",
       "      <td>2</td>\n",
       "    </tr>\n",
       "    <tr>\n",
       "      <td>1</td>\n",
       "      <td>imaging-resource.com</td>\n",
       "      <td>PRODS/olympus-e-m1-ii/olympus-e-m1-iiA.HTM</td>\n",
       "      <td>0</td>\n",
       "      <td>3</td>\n",
       "    </tr>\n",
       "    <tr>\n",
       "      <td>2</td>\n",
       "      <td>gosugamers.net</td>\n",
       "      <td>lol/streams</td>\n",
       "      <td>0</td>\n",
       "      <td>1</td>\n",
       "    </tr>\n",
       "    <tr>\n",
       "      <td>3</td>\n",
       "      <td>thingiverse.com</td>\n",
       "      <td>corkyzett/collections/intlwomensday</td>\n",
       "      <td>0</td>\n",
       "      <td>2</td>\n",
       "    </tr>\n",
       "    <tr>\n",
       "      <td>4</td>\n",
       "      <td>bausch.com</td>\n",
       "      <td>our-products/contact-lens-care/specialty-lens-...</td>\n",
       "      <td>0</td>\n",
       "      <td>3</td>\n",
       "    </tr>\n",
       "  </tbody>\n",
       "</table>\n",
       "</div>"
      ],
      "text/plain": [
       "            domain_name                                            address  \\\n",
       "0        songlyrics.com                    news/riffd-the-shins-heartworms   \n",
       "1  imaging-resource.com         PRODS/olympus-e-m1-ii/olympus-e-m1-iiA.HTM   \n",
       "2        gosugamers.net                                        lol/streams   \n",
       "3       thingiverse.com                corkyzett/collections/intlwomensday   \n",
       "4            bausch.com  our-products/contact-lens-care/specialty-lens-...   \n",
       "\n",
       "   isMalicious  length  \n",
       "0            0       2  \n",
       "1            0       3  \n",
       "2            0       1  \n",
       "3            0       2  \n",
       "4            0       3  "
      ]
     },
     "execution_count": 18,
     "metadata": {},
     "output_type": "execute_result"
    }
   ],
   "source": [
    "pre_data['length'] = data['url'].apply(long_url)\n",
    "pre_data.head()"
   ]
  },
  {
   "cell_type": "code",
   "execution_count": 19,
   "metadata": {},
   "outputs": [
    {
     "data": {
      "text/plain": [
       "1    79497\n",
       "2    47203\n",
       "3    23150\n",
       "0    17270\n",
       "5    16133\n",
       "4    11545\n",
       "Name: length, dtype: int64"
      ]
     },
     "execution_count": 19,
     "metadata": {},
     "output_type": "execute_result"
    }
   ],
   "source": [
    "pre_data['length'].value_counts()"
   ]
  },
  {
   "cell_type": "markdown",
   "metadata": {},
   "source": [
    "(2) Others length\n",
    "\n",
    "Domainlength:"
   ]
  },
  {
   "cell_type": "code",
   "execution_count": 20,
   "metadata": {},
   "outputs": [
    {
     "data": {
      "text/plain": [
       "12     17685\n",
       "11     17247\n",
       "13     17143\n",
       "10     16889\n",
       "14     14891\n",
       "       ...  \n",
       "75         1\n",
       "80         1\n",
       "81         1\n",
       "124        1\n",
       "126        1\n",
       "Name: domain_length, Length: 98, dtype: int64"
      ]
     },
     "execution_count": 20,
     "metadata": {},
     "output_type": "execute_result"
    }
   ],
   "source": [
    "#domainlength\n",
    "pre_data['domain_length'] = pre_data['domain_name'].apply(len)\n",
    "pre_data['domain_length'].value_counts()"
   ]
  },
  {
   "cell_type": "code",
   "execution_count": 21,
   "metadata": {},
   "outputs": [
    {
     "data": {
      "text/plain": [
       "<matplotlib.axes._subplots.AxesSubplot at 0x1b27cdb3448>"
      ]
     },
     "execution_count": 21,
     "metadata": {},
     "output_type": "execute_result"
    },
    {
     "data": {
      "image/png": "[encoded data removed]",
      "text/plain": [
       "<Figure size 432x288 with 1 Axes>"
      ]
     },
     "metadata": {
      "needs_background": "light"
     },
     "output_type": "display_data"
    }
   ],
   "source": [
    "pre_data['domain_length'].value_counts().plot()"
   ]
  },
  {
   "cell_type": "code",
   "execution_count": 22,
   "metadata": {},
   "outputs": [
    {
     "data": {
      "text/plain": [
       "<matplotlib.axes._subplots.AxesSubplot at 0x1b27c6ea208>"
      ]
     },
     "execution_count": 22,
     "metadata": {},
     "output_type": "execute_result"
    },
    {
     "data": {
      "image/png": "[encoded data removed]",
      "text/plain": [
       "<Figure size 432x288 with 1 Axes>"
      ]
     },
     "metadata": {
      "needs_background": "light"
     },
     "output_type": "display_data"
    }
   ],
   "source": [
    "pre_data['domain_length'].value_counts(ascending=False)[0:30].plot()"
   ]
  },
  {
   "cell_type": "code",
   "execution_count": 23,
   "metadata": {},
   "outputs": [],
   "source": [
    "def domain_len(l):\n",
    "    l= str(l)\n",
    "    if len(l) < 5:\n",
    "        return 0\n",
    "    elif len(l) <= 10:\n",
    "        return 1\n",
    "    elif len(l) <= 15:\n",
    "        return 2\n",
    "    elif len(l) <= 20:\n",
    "        return 3\n",
    "    elif len(l) <= 25:\n",
    "        return 4\n",
    "    return 5"
   ]
  },
  {
   "cell_type": "code",
   "execution_count": 24,
   "metadata": {},
   "outputs": [
    {
     "data": {
      "text/plain": [
       "2    79490\n",
       "1    51663\n",
       "3    43578\n",
       "4    14845\n",
       "5     4846\n",
       "0      376\n",
       "Name: domain_length, dtype: int64"
      ]
     },
     "execution_count": 24,
     "metadata": {},
     "output_type": "execute_result"
    }
   ],
   "source": [
    "pre_data['domain_length'] = pre_data['domain_name'].apply(domain_len)\n",
    "pre_data['domain_length'].value_counts()"
   ]
  },
  {
   "cell_type": "markdown",
   "metadata": {},
   "source": [
    "Filelength:"
   ]
  },
  {
   "cell_type": "code",
   "execution_count": 25,
   "metadata": {},
   "outputs": [
    {
     "data": {
      "text/plain": [
       "0    [songlyrics.com, news, riffd-the-shins-heartwo...\n",
       "1    [imaging-resource.com, PRODS, olympus-e-m1-ii,...\n",
       "2                       [gosugamers.net, lol, streams]\n",
       "3    [thingiverse.com, corkyzett, collections, intl...\n",
       "4    [bausch.com, our-products, contact-lens-care, ...\n",
       "Name: url, dtype: object"
      ]
     },
     "execution_count": 25,
     "metadata": {},
     "output_type": "execute_result"
    }
   ],
   "source": [
    "splited_data = data['url'].str.split(\"/\")\n",
    "splited_data.head()"
   ]
  },
  {
   "cell_type": "code",
   "execution_count": 26,
   "metadata": {},
   "outputs": [
    {
     "data": {
      "text/plain": [
       "9      15373\n",
       "8      12639\n",
       "10     12450\n",
       "7      11723\n",
       "6      11011\n",
       "       ...  \n",
       "669        1\n",
       "338        1\n",
       "595        1\n",
       "668        1\n",
       "639        1\n",
       "Name: file_length, Length: 491, dtype: int64"
      ]
     },
     "execution_count": 26,
     "metadata": {},
     "output_type": "execute_result"
    }
   ],
   "source": [
    "def file_len(l):\n",
    "    return len(l[-1])\n",
    "\n",
    "pre_data['file_length'] = splited_data.apply(file_len)\n",
    "pre_data['file_length'].value_counts()"
   ]
  },
  {
   "cell_type": "code",
   "execution_count": 27,
   "metadata": {},
   "outputs": [
    {
     "data": {
      "text/plain": [
       "<matplotlib.axes._subplots.AxesSubplot at 0x1b20271c888>"
      ]
     },
     "execution_count": 27,
     "metadata": {},
     "output_type": "execute_result"
    },
    {
     "data": {
      "image/png": "[encoded data removed]",
      "text/plain": [
       "<Figure size 432x288 with 1 Axes>"
      ]
     },
     "metadata": {
      "needs_background": "light"
     },
     "output_type": "display_data"
    }
   ],
   "source": [
    "pre_data['file_length'].value_counts(ascending=False)[0:50].plot()"
   ]
  },
  {
   "cell_type": "code",
   "execution_count": 28,
   "metadata": {},
   "outputs": [],
   "source": [
    "def file_len2(l):\n",
    "    if len(l[-1])<10:\n",
    "        return 0\n",
    "    elif len(l[-1])<20:\n",
    "        return 1\n",
    "    elif len(l[-1])<30:\n",
    "        return 2\n",
    "    return 3"
   ]
  },
  {
   "cell_type": "code",
   "execution_count": 29,
   "metadata": {},
   "outputs": [
    {
     "data": {
      "text/plain": [
       "0    75726\n",
       "1    60408\n",
       "3    37970\n",
       "2    20694\n",
       "Name: file_length, dtype: int64"
      ]
     },
     "execution_count": 29,
     "metadata": {},
     "output_type": "execute_result"
    }
   ],
   "source": [
    "pre_data['file_length'] = splited_data.apply(file_len2)\n",
    "pre_data['file_length'].value_counts()"
   ]
  },
  {
   "cell_type": "markdown",
   "metadata": {},
   "source": [
    "The infomation of dictionary can be included in the total url length, domain length and file length"
   ]
  },
  {
   "cell_type": "markdown",
   "metadata": {},
   "source": [
    "**Feature-2**\n",
    "\n",
    "2.URL’s having specail Symbols\n",
    "\n",
    "(1) Using “@” symbol in the URL leads the browser to ignore everything preceding the “@” symbol and the real address often follows the “@” symbol.\n",
    "\n",
    "(2)The existence of “//” within the URL path means that the user will be redirected to another website. An example of such URL’s is: “http://www.legitimate.com//http://www.phishing.com”. We examine the location where the “//” appears. We find that if the URL starts with “HTTP”, that means the “//” should appear in the sixth position. However, if the URL employs “HTTPS” then the “//” should appear in seventh position.\n",
    "\n",
    "(3)The dash symbol is rarely used in legitimate URLs. Phishers tend to add prefixes or suffixes separated by (-) to the domain name so that users feel that they are dealing with a legitimate webpage.\n",
    "\n",
    "For example http://www.Confirme-paypal.com/.\n",
    "\n",
    "(4).."
   ]
  },
  {
   "cell_type": "code",
   "execution_count": 30,
   "metadata": {},
   "outputs": [],
   "source": [
    "def have_at_symbol(l):\n",
    "    \"\"\"This function is used to check whether the URL contains @ symbol or not\"\"\"\n",
    "    if \"@\" in str(l):\n",
    "        return 1\n",
    "    return 0"
   ]
  },
  {
   "cell_type": "code",
   "execution_count": 31,
   "metadata": {},
   "outputs": [
    {
     "data": {
      "text/html": [
       "<div>\n",
       "<style scoped>\n",
       "    .dataframe tbody tr th:only-of-type {\n",
       "        vertical-align: middle;\n",
       "    }\n",
       "\n",
       "    .dataframe tbody tr th {\n",
       "        vertical-align: top;\n",
       "    }\n",
       "\n",
       "    .dataframe thead th {\n",
       "        text-align: right;\n",
       "    }\n",
       "</style>\n",
       "<table border=\"1\" class=\"dataframe\">\n",
       "  <thead>\n",
       "    <tr style=\"text-align: right;\">\n",
       "      <th></th>\n",
       "      <th>domain_name</th>\n",
       "      <th>address</th>\n",
       "      <th>isMalicious</th>\n",
       "      <th>length</th>\n",
       "      <th>domain_length</th>\n",
       "      <th>file_length</th>\n",
       "      <th>having_at_symbol</th>\n",
       "    </tr>\n",
       "  </thead>\n",
       "  <tbody>\n",
       "    <tr>\n",
       "      <td>0</td>\n",
       "      <td>songlyrics.com</td>\n",
       "      <td>news/riffd-the-shins-heartworms</td>\n",
       "      <td>0</td>\n",
       "      <td>2</td>\n",
       "      <td>2</td>\n",
       "      <td>2</td>\n",
       "      <td>0</td>\n",
       "    </tr>\n",
       "    <tr>\n",
       "      <td>1</td>\n",
       "      <td>imaging-resource.com</td>\n",
       "      <td>PRODS/olympus-e-m1-ii/olympus-e-m1-iiA.HTM</td>\n",
       "      <td>0</td>\n",
       "      <td>3</td>\n",
       "      <td>3</td>\n",
       "      <td>2</td>\n",
       "      <td>0</td>\n",
       "    </tr>\n",
       "    <tr>\n",
       "      <td>2</td>\n",
       "      <td>gosugamers.net</td>\n",
       "      <td>lol/streams</td>\n",
       "      <td>0</td>\n",
       "      <td>1</td>\n",
       "      <td>2</td>\n",
       "      <td>0</td>\n",
       "      <td>0</td>\n",
       "    </tr>\n",
       "    <tr>\n",
       "      <td>3</td>\n",
       "      <td>thingiverse.com</td>\n",
       "      <td>corkyzett/collections/intlwomensday</td>\n",
       "      <td>0</td>\n",
       "      <td>2</td>\n",
       "      <td>2</td>\n",
       "      <td>1</td>\n",
       "      <td>0</td>\n",
       "    </tr>\n",
       "    <tr>\n",
       "      <td>4</td>\n",
       "      <td>bausch.com</td>\n",
       "      <td>our-products/contact-lens-care/specialty-lens-...</td>\n",
       "      <td>0</td>\n",
       "      <td>3</td>\n",
       "      <td>1</td>\n",
       "      <td>2</td>\n",
       "      <td>0</td>\n",
       "    </tr>\n",
       "  </tbody>\n",
       "</table>\n",
       "</div>"
      ],
      "text/plain": [
       "            domain_name                                            address  \\\n",
       "0        songlyrics.com                    news/riffd-the-shins-heartworms   \n",
       "1  imaging-resource.com         PRODS/olympus-e-m1-ii/olympus-e-m1-iiA.HTM   \n",
       "2        gosugamers.net                                        lol/streams   \n",
       "3       thingiverse.com                corkyzett/collections/intlwomensday   \n",
       "4            bausch.com  our-products/contact-lens-care/specialty-lens-...   \n",
       "\n",
       "   isMalicious  length  domain_length  file_length  having_at_symbol  \n",
       "0            0       2              2            2                 0  \n",
       "1            0       3              3            2                 0  \n",
       "2            0       1              2            0                 0  \n",
       "3            0       2              2            1                 0  \n",
       "4            0       3              1            2                 0  "
      ]
     },
     "execution_count": 31,
     "metadata": {},
     "output_type": "execute_result"
    }
   ],
   "source": [
    "pre_data['having_at_symbol'] = data['url'].apply(have_at_symbol)\n",
    "pre_data.head()"
   ]
  },
  {
   "cell_type": "code",
   "execution_count": 32,
   "metadata": {},
   "outputs": [
    {
     "data": {
      "text/plain": [
       "0    192473\n",
       "1      2325\n",
       "Name: having_at_symbol, dtype: int64"
      ]
     },
     "execution_count": 32,
     "metadata": {},
     "output_type": "execute_result"
    }
   ],
   "source": [
    "pre_data['having_at_symbol'].value_counts()"
   ]
  },
  {
   "cell_type": "code",
   "execution_count": 33,
   "metadata": {},
   "outputs": [],
   "source": [
    "def have_at_symbol(l):\n",
    "    if \"//\" in str(l):\n",
    "        return 1\n",
    "    return 0\n",
    "pre_data['having_at_symbol'] = data['url'].apply(have_at_symbol)\n",
    "\n",
    "def have_line_symbol(l):\n",
    "    if \"-\" in str(l):\n",
    "        return 1\n",
    "    return 0\n",
    "pre_data['having_-_symbol'] = data['url'].apply(have_line_symbol)\n",
    "\n",
    "def have___symbol(l):\n",
    "    if \"_\" in str(l):\n",
    "        return 1\n",
    "    return 0\n",
    "pre_data['having___symbol'] = data['url'].apply(have___symbol)\n",
    "\n",
    "def have_sup_symbol(l):\n",
    "    if \"!\" in str(l):\n",
    "        return 1\n",
    "    return 0\n",
    "pre_data['having_!_symbol'] = data['url'].apply(have_sup_symbol)\n",
    "\n",
    "def have_spa_symbol(l):\n",
    "    if \" \" in str(l):\n",
    "        return 1\n",
    "    return 0\n",
    "pre_data['having_ _symbol'] = data['url'].apply(have_spa_symbol)\n",
    "\n",
    "def have_dol_symbol(l):\n",
    "    if \"$\" in str(l):\n",
    "        return 1\n",
    "    return 0\n",
    "pre_data['having_$_symbol'] = data['url'].apply(have_dol_symbol)\n",
    "\n",
    "def have_per_symbol(l):\n",
    "    if \"%\" in str(l):\n",
    "        return 1\n",
    "    return 0\n",
    "pre_data['having_%_symbol'] = data['url'].apply(have_per_symbol)\n",
    "\n",
    "def have_and_symbol(l):\n",
    "    if \"&\" in str(l):\n",
    "        return 1\n",
    "    return 0\n",
    "pre_data['having_&_symbol'] = data['url'].apply(have_and_symbol)"
   ]
  },
  {
   "cell_type": "markdown",
   "metadata": {},
   "source": [
    "**Feature - 3**\n",
    "\n",
    "3.Number of Sub-Domain and Multi Sub-Domains\n",
    "\n",
    "The legitimate URL link has two dots in the URL since we can ignore typing “www.”. If the number of dots is equal to three then the URL is classified as “Suspicious” since it has one sub-domain. However, if the dots are greater than three it is classified as “Phishy” since it will have multiple sub-domains"
   ]
  },
  {
   "cell_type": "code",
   "execution_count": 34,
   "metadata": {},
   "outputs": [],
   "source": [
    "def sub_domains(l):\n",
    "    l= str(l)\n",
    "    return l.count('.')"
   ]
  },
  {
   "cell_type": "code",
   "execution_count": 35,
   "metadata": {},
   "outputs": [
    {
     "data": {
      "text/html": [
       "<div>\n",
       "<style scoped>\n",
       "    .dataframe tbody tr th:only-of-type {\n",
       "        vertical-align: middle;\n",
       "    }\n",
       "\n",
       "    .dataframe tbody tr th {\n",
       "        vertical-align: top;\n",
       "    }\n",
       "\n",
       "    .dataframe thead th {\n",
       "        text-align: right;\n",
       "    }\n",
       "</style>\n",
       "<table border=\"1\" class=\"dataframe\">\n",
       "  <thead>\n",
       "    <tr style=\"text-align: right;\">\n",
       "      <th></th>\n",
       "      <th>domain_name</th>\n",
       "      <th>address</th>\n",
       "      <th>isMalicious</th>\n",
       "      <th>length</th>\n",
       "      <th>domain_length</th>\n",
       "      <th>file_length</th>\n",
       "      <th>having_at_symbol</th>\n",
       "      <th>having_-_symbol</th>\n",
       "      <th>having___symbol</th>\n",
       "      <th>having_!_symbol</th>\n",
       "      <th>having_ _symbol</th>\n",
       "      <th>having_$_symbol</th>\n",
       "      <th>having_%_symbol</th>\n",
       "      <th>having_&amp;_symbol</th>\n",
       "      <th>Num_of_Sub</th>\n",
       "    </tr>\n",
       "  </thead>\n",
       "  <tbody>\n",
       "    <tr>\n",
       "      <td>0</td>\n",
       "      <td>songlyrics.com</td>\n",
       "      <td>news/riffd-the-shins-heartworms</td>\n",
       "      <td>0</td>\n",
       "      <td>2</td>\n",
       "      <td>2</td>\n",
       "      <td>2</td>\n",
       "      <td>0</td>\n",
       "      <td>1</td>\n",
       "      <td>0</td>\n",
       "      <td>0</td>\n",
       "      <td>0</td>\n",
       "      <td>0</td>\n",
       "      <td>0</td>\n",
       "      <td>0</td>\n",
       "      <td>1</td>\n",
       "    </tr>\n",
       "    <tr>\n",
       "      <td>1</td>\n",
       "      <td>imaging-resource.com</td>\n",
       "      <td>PRODS/olympus-e-m1-ii/olympus-e-m1-iiA.HTM</td>\n",
       "      <td>0</td>\n",
       "      <td>3</td>\n",
       "      <td>3</td>\n",
       "      <td>2</td>\n",
       "      <td>0</td>\n",
       "      <td>1</td>\n",
       "      <td>0</td>\n",
       "      <td>0</td>\n",
       "      <td>0</td>\n",
       "      <td>0</td>\n",
       "      <td>0</td>\n",
       "      <td>0</td>\n",
       "      <td>2</td>\n",
       "    </tr>\n",
       "    <tr>\n",
       "      <td>2</td>\n",
       "      <td>gosugamers.net</td>\n",
       "      <td>lol/streams</td>\n",
       "      <td>0</td>\n",
       "      <td>1</td>\n",
       "      <td>2</td>\n",
       "      <td>0</td>\n",
       "      <td>0</td>\n",
       "      <td>0</td>\n",
       "      <td>0</td>\n",
       "      <td>0</td>\n",
       "      <td>0</td>\n",
       "      <td>0</td>\n",
       "      <td>0</td>\n",
       "      <td>0</td>\n",
       "      <td>1</td>\n",
       "    </tr>\n",
       "    <tr>\n",
       "      <td>3</td>\n",
       "      <td>thingiverse.com</td>\n",
       "      <td>corkyzett/collections/intlwomensday</td>\n",
       "      <td>0</td>\n",
       "      <td>2</td>\n",
       "      <td>2</td>\n",
       "      <td>1</td>\n",
       "      <td>0</td>\n",
       "      <td>0</td>\n",
       "      <td>0</td>\n",
       "      <td>0</td>\n",
       "      <td>0</td>\n",
       "      <td>0</td>\n",
       "      <td>0</td>\n",
       "      <td>0</td>\n",
       "      <td>1</td>\n",
       "    </tr>\n",
       "    <tr>\n",
       "      <td>4</td>\n",
       "      <td>bausch.com</td>\n",
       "      <td>our-products/contact-lens-care/specialty-lens-...</td>\n",
       "      <td>0</td>\n",
       "      <td>3</td>\n",
       "      <td>1</td>\n",
       "      <td>2</td>\n",
       "      <td>0</td>\n",
       "      <td>1</td>\n",
       "      <td>0</td>\n",
       "      <td>0</td>\n",
       "      <td>0</td>\n",
       "      <td>0</td>\n",
       "      <td>0</td>\n",
       "      <td>0</td>\n",
       "      <td>1</td>\n",
       "    </tr>\n",
       "  </tbody>\n",
       "</table>\n",
       "</div>"
      ],
      "text/plain": [
       "            domain_name                                            address  \\\n",
       "0        songlyrics.com                    news/riffd-the-shins-heartworms   \n",
       "1  imaging-resource.com         PRODS/olympus-e-m1-ii/olympus-e-m1-iiA.HTM   \n",
       "2        gosugamers.net                                        lol/streams   \n",
       "3       thingiverse.com                corkyzett/collections/intlwomensday   \n",
       "4            bausch.com  our-products/contact-lens-care/specialty-lens-...   \n",
       "\n",
       "   isMalicious  length  domain_length  file_length  having_at_symbol  \\\n",
       "0            0       2              2            2                 0   \n",
       "1            0       3              3            2                 0   \n",
       "2            0       1              2            0                 0   \n",
       "3            0       2              2            1                 0   \n",
       "4            0       3              1            2                 0   \n",
       "\n",
       "   having_-_symbol  having___symbol  having_!_symbol  having_ _symbol  \\\n",
       "0                1                0                0                0   \n",
       "1                1                0                0                0   \n",
       "2                0                0                0                0   \n",
       "3                0                0                0                0   \n",
       "4                1                0                0                0   \n",
       "\n",
       "   having_$_symbol  having_%_symbol  having_&_symbol  Num_of_Sub  \n",
       "0                0                0                0           1  \n",
       "1                0                0                0           2  \n",
       "2                0                0                0           1  \n",
       "3                0                0                0           1  \n",
       "4                0                0                0           1  "
      ]
     },
     "execution_count": 35,
     "metadata": {},
     "output_type": "execute_result"
    }
   ],
   "source": [
    "pre_data['Num_of_Sub'] = data['url'].apply(sub_domains)\n",
    "pre_data.head()"
   ]
  },
  {
   "cell_type": "code",
   "execution_count": 36,
   "metadata": {},
   "outputs": [
    {
     "data": {
      "text/plain": [
       "1     95959\n",
       "2     68481\n",
       "3     17678\n",
       "4      6841\n",
       "5      2152\n",
       "6       866\n",
       "0       789\n",
       "14      569\n",
       "7       312\n",
       "8       231\n",
       "15      225\n",
       "13      197\n",
       "11      101\n",
       "9        94\n",
       "10       74\n",
       "12       70\n",
       "16       62\n",
       "17       28\n",
       "18       25\n",
       "20       14\n",
       "19       12\n",
       "21        7\n",
       "24        3\n",
       "22        2\n",
       "29        2\n",
       "30        1\n",
       "25        1\n",
       "27        1\n",
       "31        1\n",
       "Name: Num_of_Sub, dtype: int64"
      ]
     },
     "execution_count": 36,
     "metadata": {},
     "output_type": "execute_result"
    }
   ],
   "source": [
    "pre_data['Num_of_Sub'].value_counts()"
   ]
  },
  {
   "cell_type": "code",
   "execution_count": 38,
   "metadata": {},
   "outputs": [],
   "source": [
    "def sub_domains2(l):\n",
    "    l= str(l)\n",
    "    if l.count('.') == 1:\n",
    "        return 0\n",
    "    elif l.count('.') == 2:\n",
    "        return 1\n",
    "    elif l.count('.') == 3:\n",
    "        return 3   \n",
    "    return 4"
   ]
  },
  {
   "cell_type": "code",
   "execution_count": 39,
   "metadata": {},
   "outputs": [
    {
     "data": {
      "text/plain": [
       "0    95959\n",
       "1    68481\n",
       "3    17678\n",
       "4    12680\n",
       "Name: Num_of_Sub, dtype: int64"
      ]
     },
     "execution_count": 39,
     "metadata": {},
     "output_type": "execute_result"
    }
   ],
   "source": [
    "pre_data['Num_of_Sub'] = data['url'].apply(sub_domains2)\n",
    "pre_data['Num_of_Sub'].value_counts()"
   ]
  },
  {
   "cell_type": "markdown",
   "metadata": {},
   "source": [
    "**Feature - 4**\n",
    "\n",
    "4.URL’s having IP address\n",
    "\n",
    "An IP address exists in the URL. A certain percentage of phishing URLs contain IP addresses, and there are almost no cases of IP addresses in legitimate URLs"
   ]
  },
  {
   "cell_type": "code",
   "execution_count": 40,
   "metadata": {},
   "outputs": [],
   "source": [
    "import re"
   ]
  },
  {
   "cell_type": "code",
   "execution_count": 41,
   "metadata": {},
   "outputs": [],
   "source": [
    "def isIP(l):\n",
    "    p = re.compile('^((25[0-5]|2[0-4]\\d|[01]?\\d\\d?)\\.){3}(25[0-5]|2[0-4]\\d|[01]?\\d\\d?)$')\n",
    "    if p.match(l):\n",
    "        return 1\n",
    "    else:\n",
    "        return 0"
   ]
  },
  {
   "cell_type": "code",
   "execution_count": 42,
   "metadata": {},
   "outputs": [
    {
     "data": {
      "text/plain": [
       "0    194420\n",
       "1       378\n",
       "Name: having_ip, dtype: int64"
      ]
     },
     "execution_count": 42,
     "metadata": {},
     "output_type": "execute_result"
    }
   ],
   "source": [
    "pre_data['having_ip'] = data['url'].apply(isIP)\n",
    "pre_data['having_ip'].value_counts()"
   ]
  },
  {
   "cell_type": "markdown",
   "metadata": {},
   "source": [
    "**Feature - 5**\n",
    "\n",
    "5.Numbers of Mix of digits and letters\n",
    "\n",
    "There are many numbers and letters mixed in Malicious website\n",
    "\n",
    "Like the feature-1, consider it respectly in url, domain and file"
   ]
  },
  {
   "cell_type": "code",
   "execution_count": 43,
   "metadata": {},
   "outputs": [],
   "source": [
    "def mix(l):\n",
    "    j = 0\n",
    "    for i in re.findall(r'.{5}', l):\n",
    "        j=j+bool(re.search('[a-z]', l))*bool(re.search(r'\\d', l))\n",
    "    return j"
   ]
  },
  {
   "cell_type": "code",
   "execution_count": 44,
   "metadata": {},
   "outputs": [
    {
     "data": {
      "text/plain": [
       "0      92579\n",
       "5       9247\n",
       "4       9026\n",
       "6       7542\n",
       "7       6843\n",
       "       ...  \n",
       "215        1\n",
       "271        1\n",
       "113        1\n",
       "160        1\n",
       "157        1\n",
       "Name: Num_of_mix, Length: 197, dtype: int64"
      ]
     },
     "execution_count": 44,
     "metadata": {},
     "output_type": "execute_result"
    }
   ],
   "source": [
    "pre_data['Num_of_mix'] = data['url'].apply(mix)\n",
    "pre_data['Num_of_mix'].value_counts()"
   ]
  },
  {
   "cell_type": "code",
   "execution_count": 45,
   "metadata": {},
   "outputs": [
    {
     "data": {
      "text/plain": [
       "<matplotlib.axes._subplots.AxesSubplot at 0x1b20291b3c8>"
      ]
     },
     "execution_count": 45,
     "metadata": {},
     "output_type": "execute_result"
    },
    {
     "data": {
      "image/png": "[encoded data removed]",
      "text/plain": [
       "<Figure size 432x288 with 1 Axes>"
      ]
     },
     "metadata": {
      "needs_background": "light"
     },
     "output_type": "display_data"
    }
   ],
   "source": [
    "pre_data['Num_of_mix'].value_counts().plot()"
   ]
  },
  {
   "cell_type": "code",
   "execution_count": 46,
   "metadata": {},
   "outputs": [
    {
     "data": {
      "text/plain": [
       "<matplotlib.axes._subplots.AxesSubplot at 0x1b203ab0f08>"
      ]
     },
     "execution_count": 46,
     "metadata": {},
     "output_type": "execute_result"
    },
    {
     "data": {
      "image/png": "[encoded data removed]",
      "text/plain": [
       "<Figure size 432x288 with 1 Axes>"
      ]
     },
     "metadata": {
      "needs_background": "light"
     },
     "output_type": "display_data"
    }
   ],
   "source": [
    "pre_data['Num_of_mix'].value_counts(ascending=False)[0:50].plot()"
   ]
  },
  {
   "cell_type": "code",
   "execution_count": 47,
   "metadata": {},
   "outputs": [],
   "source": [
    "def mix2(l):\n",
    "    j = 0\n",
    "    for i in re.findall(r'.{5}', l):\n",
    "        j=j+bool(re.search('[a-z]', l))*bool(re.search(r'\\d', l))\n",
    "    if j==0:\n",
    "        return 0\n",
    "    elif j<5:\n",
    "        return 1\n",
    "    elif j<10:\n",
    "        return 2\n",
    "    elif j<20:\n",
    "        return 3\n",
    "    return 4"
   ]
  },
  {
   "cell_type": "code",
   "execution_count": 48,
   "metadata": {},
   "outputs": [
    {
     "data": {
      "text/plain": [
       "0    92579\n",
       "2    36052\n",
       "3    34898\n",
       "1    16110\n",
       "4    15159\n",
       "Name: Num_of_mix, dtype: int64"
      ]
     },
     "execution_count": 48,
     "metadata": {},
     "output_type": "execute_result"
    }
   ],
   "source": [
    "pre_data['Num_of_mix'] = data['url'].apply(mix2)\n",
    "pre_data['Num_of_mix'].value_counts()"
   ]
  },
  {
   "cell_type": "markdown",
   "metadata": {},
   "source": [
    "Count of digits, words and else:"
   ]
  },
  {
   "cell_type": "code",
   "execution_count": 50,
   "metadata": {},
   "outputs": [],
   "source": [
    "def words(s):\n",
    "    s = str(s)\n",
    "    count=0\n",
    "    for i in s:\n",
    "        if (ord(i)>=97 and ord(i)<=122) or (ord(i)>=65 and ord(i)<=90):\n",
    "            count=count+1\n",
    "    return count\n",
    "\n",
    "def digits(s):\n",
    "    s = str(s)\n",
    "    count=0\n",
    "    for i in s:\n",
    "        if ord(i)>=48 and ord(i)<=57:\n",
    "            count=count+1\n",
    "    return count\n",
    "\n",
    "def others(s):\n",
    "    s = str(s)\n",
    "    count=0\n",
    "    for i in s:\n",
    "        if (ord(i) < 48) or (ord(i) > 57 and ord(i)< 65) or (ord(i) > 90 and ord(i)< 97) or (ord(i) > 122):\n",
    "            count=count+1\n",
    "    return count"
   ]
  },
  {
   "cell_type": "code",
   "execution_count": 54,
   "metadata": {},
   "outputs": [
    {
     "data": {
      "text/plain": [
       "<matplotlib.axes._subplots.AxesSubplot at 0x1b203b7d2c8>"
      ]
     },
     "execution_count": 54,
     "metadata": {},
     "output_type": "execute_result"
    },
    {
     "data": {
      "image/png": "[encoded data removed]",
      "text/plain": [
       "<Figure size 432x288 with 1 Axes>"
      ]
     },
     "metadata": {
      "needs_background": "light"
     },
     "output_type": "display_data"
    }
   ],
   "source": [
    "data['url'].apply(words).value_counts(ascending=False)[0:80].plot()"
   ]
  },
  {
   "cell_type": "code",
   "execution_count": 61,
   "metadata": {},
   "outputs": [
    {
     "data": {
      "text/plain": [
       "<matplotlib.axes._subplots.AxesSubplot at 0x1b203eedc48>"
      ]
     },
     "execution_count": 61,
     "metadata": {},
     "output_type": "execute_result"
    },
    {
     "data": {
      "image/png": "[encoded data removed]",
      "text/plain": [
       "<Figure size 432x288 with 1 Axes>"
      ]
     },
     "metadata": {
      "needs_background": "light"
     },
     "output_type": "display_data"
    }
   ],
   "source": [
    "data['url'].apply(digits).value_counts(ascending=False)[0:20].plot()"
   ]
  },
  {
   "cell_type": "code",
   "execution_count": 62,
   "metadata": {},
   "outputs": [
    {
     "data": {
      "text/plain": [
       "<matplotlib.axes._subplots.AxesSubplot at 0x1b203f71f48>"
      ]
     },
     "execution_count": 62,
     "metadata": {},
     "output_type": "execute_result"
    },
    {
     "data": {
      "image/png": "[encoded data removed]",
      "text/plain": [
       "<Figure size 432x288 with 1 Axes>"
      ]
     },
     "metadata": {
      "needs_background": "light"
     },
     "output_type": "display_data"
    }
   ],
   "source": [
    "data['url'].apply(others).value_counts(ascending=False)[0:50].plot()"
   ]
  },
  {
   "cell_type": "code",
   "execution_count": 63,
   "metadata": {},
   "outputs": [],
   "source": [
    "def words2(s):\n",
    "    s = str(s)\n",
    "    count=0\n",
    "    for i in s:\n",
    "        if (ord(i)>=97 and ord(i)<=122) or (ord(i)>=65 and ord(i)<=90):\n",
    "            count=count+1\n",
    "    if count<20:\n",
    "        return 0\n",
    "    elif count<40:\n",
    "        return 1\n",
    "    elif count<60:\n",
    "        return 2\n",
    "    return 3\n",
    "\n",
    "def digits2(s):\n",
    "    s = str(s)\n",
    "    count=0\n",
    "    for i in s:\n",
    "        if ord(i)>=48 and ord(i)<=57:\n",
    "            count=count+1\n",
    "    if count == 0:\n",
    "        return 0\n",
    "    elif count == 1:\n",
    "        return 1\n",
    "    elif count == 2:\n",
    "        return 2\n",
    "    return 3\n",
    "\n",
    "def others2(s):\n",
    "    s = str(s)\n",
    "    count=0\n",
    "    for i in s:\n",
    "        if (ord(i) < 48) or (ord(i) > 57 and ord(i)< 65) or (ord(i) > 90 and ord(i)< 97) or (ord(i) > 122):\n",
    "            count=count+1\n",
    "    if count < 5:\n",
    "        return 0\n",
    "    elif count < 10:\n",
    "        return 1\n",
    "    elif count < 20:\n",
    "        return 2\n",
    "    return 3"
   ]
  },
  {
   "cell_type": "code",
   "execution_count": 64,
   "metadata": {},
   "outputs": [],
   "source": [
    "pre_data['words_count'] = data['url'].apply(words2)\n",
    "pre_data['digits_count'] = data['url'].apply(digits2)\n",
    "pre_data['others_count'] = data['url'].apply(others2)"
   ]
  },
  {
   "cell_type": "markdown",
   "metadata": {},
   "source": [
    "**There are many others festures like:**\n",
    "\n",
    "1.Although the real domain name is active-userid.com, the attacker tried to make the domain look like paypal.com by adding FreeURL. When users see paypal.com at the beginning of the URL, they can trust the site and connect it, then can share their sensitive information to the this fraudulent site. This is a frequently used method by attackers. Other methods that are often used by attackers are Cybersquatting and Typosquatting.\n",
    "\n",
    "2.Cybersquatting (also known as domain squatting), is registering, trafficking in, or using a domain name with bad faith intent to profit from the goodwill of a trademark belonging to someone else. The cybersquatter may offer selling the domain to a person or company who owns a trademark contained within the name at an inflated price or may use it for fraudulent purposes such as phishing. For example, the name of your company is “abcompany” and you register as abcompany.com. Then phishers can register abcompany.net, abcompany.org, abcompany.biz and they can use it for fraudulent purpose.\n",
    "\n",
    "3.Google rank maybe useful for this\n",
    "\n",
    "However, it's difficult to analysis those feature. It obviously needs using NLP and I can do that for interest after this assessment."
   ]
  },
  {
   "cell_type": "code",
   "execution_count": 65,
   "metadata": {},
   "outputs": [
    {
     "data": {
      "text/html": [
       "<div>\n",
       "<style scoped>\n",
       "    .dataframe tbody tr th:only-of-type {\n",
       "        vertical-align: middle;\n",
       "    }\n",
       "\n",
       "    .dataframe tbody tr th {\n",
       "        vertical-align: top;\n",
       "    }\n",
       "\n",
       "    .dataframe thead th {\n",
       "        text-align: right;\n",
       "    }\n",
       "</style>\n",
       "<table border=\"1\" class=\"dataframe\">\n",
       "  <thead>\n",
       "    <tr style=\"text-align: right;\">\n",
       "      <th></th>\n",
       "      <th>domain_name</th>\n",
       "      <th>address</th>\n",
       "      <th>isMalicious</th>\n",
       "      <th>length</th>\n",
       "      <th>domain_length</th>\n",
       "      <th>file_length</th>\n",
       "      <th>having_at_symbol</th>\n",
       "      <th>having_-_symbol</th>\n",
       "      <th>having___symbol</th>\n",
       "      <th>having_!_symbol</th>\n",
       "      <th>having_ _symbol</th>\n",
       "      <th>having_$_symbol</th>\n",
       "      <th>having_%_symbol</th>\n",
       "      <th>having_&amp;_symbol</th>\n",
       "      <th>Num_of_Sub</th>\n",
       "      <th>having_ip</th>\n",
       "      <th>Num_of_mix</th>\n",
       "      <th>words_count</th>\n",
       "      <th>digits_count</th>\n",
       "      <th>others_count</th>\n",
       "    </tr>\n",
       "  </thead>\n",
       "  <tbody>\n",
       "    <tr>\n",
       "      <td>0</td>\n",
       "      <td>songlyrics.com</td>\n",
       "      <td>news/riffd-the-shins-heartworms</td>\n",
       "      <td>0</td>\n",
       "      <td>2</td>\n",
       "      <td>2</td>\n",
       "      <td>2</td>\n",
       "      <td>0</td>\n",
       "      <td>1</td>\n",
       "      <td>0</td>\n",
       "      <td>0</td>\n",
       "      <td>0</td>\n",
       "      <td>0</td>\n",
       "      <td>0</td>\n",
       "      <td>0</td>\n",
       "      <td>0</td>\n",
       "      <td>0</td>\n",
       "      <td>0</td>\n",
       "      <td>2</td>\n",
       "      <td>0</td>\n",
       "      <td>1</td>\n",
       "    </tr>\n",
       "    <tr>\n",
       "      <td>1</td>\n",
       "      <td>imaging-resource.com</td>\n",
       "      <td>PRODS/olympus-e-m1-ii/olympus-e-m1-iiA.HTM</td>\n",
       "      <td>0</td>\n",
       "      <td>3</td>\n",
       "      <td>3</td>\n",
       "      <td>2</td>\n",
       "      <td>0</td>\n",
       "      <td>1</td>\n",
       "      <td>0</td>\n",
       "      <td>0</td>\n",
       "      <td>0</td>\n",
       "      <td>0</td>\n",
       "      <td>0</td>\n",
       "      <td>0</td>\n",
       "      <td>1</td>\n",
       "      <td>0</td>\n",
       "      <td>3</td>\n",
       "      <td>2</td>\n",
       "      <td>2</td>\n",
       "      <td>2</td>\n",
       "    </tr>\n",
       "    <tr>\n",
       "      <td>2</td>\n",
       "      <td>gosugamers.net</td>\n",
       "      <td>lol/streams</td>\n",
       "      <td>0</td>\n",
       "      <td>1</td>\n",
       "      <td>2</td>\n",
       "      <td>0</td>\n",
       "      <td>0</td>\n",
       "      <td>0</td>\n",
       "      <td>0</td>\n",
       "      <td>0</td>\n",
       "      <td>0</td>\n",
       "      <td>0</td>\n",
       "      <td>0</td>\n",
       "      <td>0</td>\n",
       "      <td>0</td>\n",
       "      <td>0</td>\n",
       "      <td>0</td>\n",
       "      <td>1</td>\n",
       "      <td>0</td>\n",
       "      <td>0</td>\n",
       "    </tr>\n",
       "    <tr>\n",
       "      <td>3</td>\n",
       "      <td>thingiverse.com</td>\n",
       "      <td>corkyzett/collections/intlwomensday</td>\n",
       "      <td>0</td>\n",
       "      <td>2</td>\n",
       "      <td>2</td>\n",
       "      <td>1</td>\n",
       "      <td>0</td>\n",
       "      <td>0</td>\n",
       "      <td>0</td>\n",
       "      <td>0</td>\n",
       "      <td>0</td>\n",
       "      <td>0</td>\n",
       "      <td>0</td>\n",
       "      <td>0</td>\n",
       "      <td>0</td>\n",
       "      <td>0</td>\n",
       "      <td>0</td>\n",
       "      <td>2</td>\n",
       "      <td>0</td>\n",
       "      <td>0</td>\n",
       "    </tr>\n",
       "    <tr>\n",
       "      <td>4</td>\n",
       "      <td>bausch.com</td>\n",
       "      <td>our-products/contact-lens-care/specialty-lens-...</td>\n",
       "      <td>0</td>\n",
       "      <td>3</td>\n",
       "      <td>1</td>\n",
       "      <td>2</td>\n",
       "      <td>0</td>\n",
       "      <td>1</td>\n",
       "      <td>0</td>\n",
       "      <td>0</td>\n",
       "      <td>0</td>\n",
       "      <td>0</td>\n",
       "      <td>0</td>\n",
       "      <td>0</td>\n",
       "      <td>0</td>\n",
       "      <td>0</td>\n",
       "      <td>0</td>\n",
       "      <td>3</td>\n",
       "      <td>0</td>\n",
       "      <td>2</td>\n",
       "    </tr>\n",
       "  </tbody>\n",
       "</table>\n",
       "</div>"
      ],
      "text/plain": [
       "            domain_name                                            address  \\\n",
       "0        songlyrics.com                    news/riffd-the-shins-heartworms   \n",
       "1  imaging-resource.com         PRODS/olympus-e-m1-ii/olympus-e-m1-iiA.HTM   \n",
       "2        gosugamers.net                                        lol/streams   \n",
       "3       thingiverse.com                corkyzett/collections/intlwomensday   \n",
       "4            bausch.com  our-products/contact-lens-care/specialty-lens-...   \n",
       "\n",
       "   isMalicious  length  domain_length  file_length  having_at_symbol  \\\n",
       "0            0       2              2            2                 0   \n",
       "1            0       3              3            2                 0   \n",
       "2            0       1              2            0                 0   \n",
       "3            0       2              2            1                 0   \n",
       "4            0       3              1            2                 0   \n",
       "\n",
       "   having_-_symbol  having___symbol  having_!_symbol  having_ _symbol  \\\n",
       "0                1                0                0                0   \n",
       "1                1                0                0                0   \n",
       "2                0                0                0                0   \n",
       "3                0                0                0                0   \n",
       "4                1                0                0                0   \n",
       "\n",
       "   having_$_symbol  having_%_symbol  having_&_symbol  Num_of_Sub  having_ip  \\\n",
       "0                0                0                0           0          0   \n",
       "1                0                0                0           1          0   \n",
       "2                0                0                0           0          0   \n",
       "3                0                0                0           0          0   \n",
       "4                0                0                0           0          0   \n",
       "\n",
       "   Num_of_mix  words_count  digits_count  others_count  \n",
       "0           0            2             0             1  \n",
       "1           3            2             2             2  \n",
       "2           0            1             0             0  \n",
       "3           0            2             0             0  \n",
       "4           0            3             0             2  "
      ]
     },
     "execution_count": 65,
     "metadata": {},
     "output_type": "execute_result"
    }
   ],
   "source": [
    "pre_data.head()"
   ]
  },
  {
   "cell_type": "markdown",
   "metadata": {},
   "source": [
    "# Step -3 :Classification of URLs using sequence model"
   ]
  },
  {
   "cell_type": "code",
   "execution_count": 66,
   "metadata": {},
   "outputs": [],
   "source": [
    "from keras.models import Sequential\n",
    "from keras.layers import Dense"
   ]
  },
  {
   "cell_type": "code",
   "execution_count": 73,
   "metadata": {},
   "outputs": [
    {
     "data": {
      "text/plain": [
       "array([[0, 2, 2, ..., 2, 0, 1],\n",
       "       [0, 3, 3, ..., 2, 2, 2],\n",
       "       [0, 1, 2, ..., 1, 0, 0],\n",
       "       ...,\n",
       "       [1, 5, 3, ..., 3, 3, 3],\n",
       "       [1, 0, 1, ..., 0, 2, 0],\n",
       "       [1, 1, 2, ..., 1, 0, 0]], dtype=object)"
      ]
     },
     "execution_count": 73,
     "metadata": {},
     "output_type": "execute_result"
    }
   ],
   "source": [
    "dataset = pre_data.values[:,2:20]\n",
    "dataset"
   ]
  },
  {
   "cell_type": "code",
   "execution_count": 74,
   "metadata": {},
   "outputs": [
    {
     "name": "stdout",
     "output_type": "stream",
     "text": [
      "(194798, 17)\n",
      "(194798,)\n"
     ]
    }
   ],
   "source": [
    "x=dataset[:,1:18]\n",
    "y=dataset[:,0]\n",
    "print(x.shape)\n",
    "print(y.shape)"
   ]
  },
  {
   "cell_type": "code",
   "execution_count": 75,
   "metadata": {},
   "outputs": [],
   "source": [
    "from sklearn.model_selection import train_test_split"
   ]
  },
  {
   "cell_type": "code",
   "execution_count": 76,
   "metadata": {},
   "outputs": [
    {
     "name": "stdout",
     "output_type": "stream",
     "text": [
      "(155838, 17) (38960, 17)\n",
      "(155838,) (38960,)\n"
     ]
    }
   ],
   "source": [
    "x_train, x_test, y_train, y_test = train_test_split(x, y, test_size = 0.2)\n",
    "print(x_train.shape , x_test.shape)\n",
    "print(y_train.shape , y_test.shape)"
   ]
  },
  {
   "cell_type": "code",
   "execution_count": 77,
   "metadata": {},
   "outputs": [],
   "source": [
    "# create model\n",
    "model = Sequential()\n",
    "model.add(Dense(20, input_dim=17, activation='relu'))\n",
    "model.add(Dense(17, activation='relu'))\n",
    "model.add(Dense(1, activation='sigmoid'))"
   ]
  },
  {
   "cell_type": "code",
   "execution_count": 78,
   "metadata": {},
   "outputs": [],
   "source": [
    "model.compile(loss='binary_crossentropy', optimizer='adam', metrics=['accuracy'])"
   ]
  },
  {
   "cell_type": "code",
   "execution_count": 79,
   "metadata": {},
   "outputs": [
    {
     "name": "stdout",
     "output_type": "stream",
     "text": [
      "Epoch 1/100\n",
      "194798/194798 [==============================] - 22s 115us/step - loss: 0.4967 - accuracy: 0.7599\n",
      "Epoch 2/100\n",
      "194798/194798 [==============================] - 22s 113us/step - loss: 0.4726 - accuracy: 0.7752\n",
      "Epoch 3/100\n",
      "194798/194798 [==============================] - 24s 121us/step - loss: 0.4662 - accuracy: 0.7789\n",
      "Epoch 4/100\n",
      "194798/194798 [==============================] - 27s 140us/step - loss: 0.4634 - accuracy: 0.7813\n",
      "Epoch 5/100\n",
      "194798/194798 [==============================] - 28s 143us/step - loss: 0.4607 - accuracy: 0.7819\n",
      "Epoch 6/100\n",
      "194798/194798 [==============================] - 27s 141us/step - loss: 0.4589 - accuracy: 0.7821\n",
      "Epoch 7/100\n",
      "194798/194798 [==============================] - 27s 140us/step - loss: 0.4576 - accuracy: 0.7837\n",
      "Epoch 8/100\n",
      "194798/194798 [==============================] - 27s 141us/step - loss: 0.4567 - accuracy: 0.7839\n",
      "Epoch 9/100\n",
      "194798/194798 [==============================] - 28s 146us/step - loss: 0.4554 - accuracy: 0.7850\n",
      "Epoch 10/100\n",
      "194798/194798 [==============================] - 28s 145us/step - loss: 0.4550 - accuracy: 0.7857\n",
      "Epoch 11/100\n",
      "194798/194798 [==============================] - 27s 139us/step - loss: 0.4539 - accuracy: 0.7859\n",
      "Epoch 12/100\n",
      "194798/194798 [==============================] - 27s 140us/step - loss: 0.4528 - accuracy: 0.7869\n",
      "Epoch 13/100\n",
      "194798/194798 [==============================] - 27s 140us/step - loss: 0.4523 - accuracy: 0.7872\n",
      "Epoch 14/100\n",
      "194798/194798 [==============================] - 28s 142us/step - loss: 0.4517 - accuracy: 0.7870\n",
      "Epoch 15/100\n",
      "194798/194798 [==============================] - 27s 140us/step - loss: 0.4514 - accuracy: 0.7873\n",
      "Epoch 16/100\n",
      "194798/194798 [==============================] - 28s 144us/step - loss: 0.4510 - accuracy: 0.7871\n",
      "Epoch 17/100\n",
      "194798/194798 [==============================] - 28s 142us/step - loss: 0.4504 - accuracy: 0.7878\n",
      "Epoch 18/100\n",
      "194798/194798 [==============================] - 28s 143us/step - loss: 0.4502 - accuracy: 0.7877\n",
      "Epoch 19/100\n",
      "194798/194798 [==============================] - 28s 146us/step - loss: 0.4498 - accuracy: 0.7878\n",
      "Epoch 20/100\n",
      "194798/194798 [==============================] - 28s 146us/step - loss: 0.4499 - accuracy: 0.7874\n",
      "Epoch 21/100\n",
      "194798/194798 [==============================] - 29s 147us/step - loss: 0.4495 - accuracy: 0.7880\n",
      "Epoch 22/100\n",
      "194798/194798 [==============================] - 29s 146us/step - loss: 0.4493 - accuracy: 0.7881\n",
      "Epoch 23/100\n",
      "194798/194798 [==============================] - 29s 147us/step - loss: 0.4490 - accuracy: 0.7886\n",
      "Epoch 24/100\n",
      "194798/194798 [==============================] - 29s 148us/step - loss: 0.4487 - accuracy: 0.7891\n",
      "Epoch 25/100\n",
      "194798/194798 [==============================] - 30s 155us/step - loss: 0.4485 - accuracy: 0.7891\n",
      "Epoch 26/100\n",
      "194798/194798 [==============================] - 31s 161us/step - loss: 0.4484 - accuracy: 0.7888\n",
      "Epoch 27/100\n",
      "194798/194798 [==============================] - 32s 164us/step - loss: 0.4481 - accuracy: 0.7891\n",
      "Epoch 28/100\n",
      "194798/194798 [==============================] - 30s 152us/step - loss: 0.4480 - accuracy: 0.7889\n",
      "Epoch 29/100\n",
      "194798/194798 [==============================] - 30s 155us/step - loss: 0.4480 - accuracy: 0.7887\n",
      "Epoch 30/100\n",
      "194798/194798 [==============================] - 28s 142us/step - loss: 0.4478 - accuracy: 0.7885\n",
      "Epoch 31/100\n",
      "194798/194798 [==============================] - 27s 141us/step - loss: 0.4476 - accuracy: 0.7886\n",
      "Epoch 32/100\n",
      "194798/194798 [==============================] - 28s 142us/step - loss: 0.4474 - accuracy: 0.7896\n",
      "Epoch 33/100\n",
      "194798/194798 [==============================] - 27s 141us/step - loss: 0.4475 - accuracy: 0.7892\n",
      "Epoch 34/100\n",
      "194798/194798 [==============================] - 30s 153us/step - loss: 0.4471 - accuracy: 0.7898\n",
      "Epoch 35/100\n",
      "194798/194798 [==============================] - 30s 155us/step - loss: 0.4473 - accuracy: 0.7897\n",
      "Epoch 36/100\n",
      "194798/194798 [==============================] - 29s 149us/step - loss: 0.4471 - accuracy: 0.7904\n",
      "Epoch 37/100\n",
      "194798/194798 [==============================] - 29s 148us/step - loss: 0.4469 - accuracy: 0.7890\n",
      "Epoch 38/100\n",
      "194798/194798 [==============================] - 29s 149us/step - loss: 0.4469 - accuracy: 0.7899\n",
      "Epoch 39/100\n",
      "194798/194798 [==============================] - 29s 149us/step - loss: 0.4466 - accuracy: 0.7894\n",
      "Epoch 40/100\n",
      "194798/194798 [==============================] - 29s 149us/step - loss: 0.4466 - accuracy: 0.7894\n",
      "Epoch 41/100\n",
      "194798/194798 [==============================] - 29s 151us/step - loss: 0.4464 - accuracy: 0.7900\n",
      "Epoch 42/100\n",
      "194798/194798 [==============================] - 29s 149us/step - loss: 0.4463 - accuracy: 0.7901\n",
      "Epoch 43/100\n",
      "194798/194798 [==============================] - 29s 150us/step - loss: 0.4463 - accuracy: 0.7898\n",
      "Epoch 44/100\n",
      "194798/194798 [==============================] - 29s 149us/step - loss: 0.4463 - accuracy: 0.7901\n",
      "Epoch 45/100\n",
      "194798/194798 [==============================] - 29s 149us/step - loss: 0.4461 - accuracy: 0.7899\n",
      "Epoch 46/100\n",
      "194798/194798 [==============================] - 29s 149us/step - loss: 0.4462 - accuracy: 0.7899\n",
      "Epoch 47/100\n",
      "194798/194798 [==============================] - 29s 150us/step - loss: 0.4461 - accuracy: 0.7900\n",
      "Epoch 48/100\n",
      "194798/194798 [==============================] - 30s 153us/step - loss: 0.4460 - accuracy: 0.7900\n",
      "Epoch 49/100\n",
      "194798/194798 [==============================] - 29s 149us/step - loss: 0.4458 - accuracy: 0.7905\n",
      "Epoch 50/100\n",
      "194798/194798 [==============================] - 29s 151us/step - loss: 0.4456 - accuracy: 0.7903\n",
      "Epoch 51/100\n",
      "194798/194798 [==============================] - 30s 153us/step - loss: 0.4456 - accuracy: 0.7904\n",
      "Epoch 52/100\n",
      "194798/194798 [==============================] - 29s 150us/step - loss: 0.4456 - accuracy: 0.7905\n",
      "Epoch 53/100\n",
      "194798/194798 [==============================] - 29s 150us/step - loss: 0.4457 - accuracy: 0.7900\n",
      "Epoch 54/100\n",
      "194798/194798 [==============================] - 27s 138us/step - loss: 0.4456 - accuracy: 0.7899\n",
      "Epoch 55/100\n",
      "194798/194798 [==============================] - 27s 138us/step - loss: 0.4455 - accuracy: 0.7902\n",
      "Epoch 56/100\n",
      "194798/194798 [==============================] - 27s 139us/step - loss: 0.4453 - accuracy: 0.7902\n",
      "Epoch 57/100\n",
      "194798/194798 [==============================] - 27s 137us/step - loss: 0.4455 - accuracy: 0.7904\n",
      "Epoch 58/100\n",
      "194798/194798 [==============================] - 27s 137us/step - loss: 0.4450 - accuracy: 0.7906\n",
      "Epoch 59/100\n",
      "194798/194798 [==============================] - 27s 137us/step - loss: 0.4450 - accuracy: 0.7908\n",
      "Epoch 60/100\n",
      "194798/194798 [==============================] - 27s 137us/step - loss: 0.4452 - accuracy: 0.7904\n",
      "Epoch 61/100\n",
      "194798/194798 [==============================] - 27s 139us/step - loss: 0.4449 - accuracy: 0.7905\n",
      "Epoch 62/100\n",
      "194798/194798 [==============================] - 27s 139us/step - loss: 0.4449 - accuracy: 0.7902\n",
      "Epoch 63/100\n",
      "194798/194798 [==============================] - 27s 139us/step - loss: 0.4448 - accuracy: 0.7899\n",
      "Epoch 64/100\n",
      "194798/194798 [==============================] - 27s 140us/step - loss: 0.4445 - accuracy: 0.7905\n",
      "Epoch 65/100\n",
      "194798/194798 [==============================] - 27s 141us/step - loss: 0.4447 - accuracy: 0.7906\n",
      "Epoch 66/100\n",
      "194798/194798 [==============================] - 28s 142us/step - loss: 0.4446 - accuracy: 0.7907\n",
      "Epoch 67/100\n",
      "194798/194798 [==============================] - 28s 142us/step - loss: 0.4443 - accuracy: 0.7910\n",
      "Epoch 68/100\n",
      "194798/194798 [==============================] - 28s 145us/step - loss: 0.4444 - accuracy: 0.7903\n",
      "Epoch 69/100\n",
      "194798/194798 [==============================] - 28s 145us/step - loss: 0.4445 - accuracy: 0.7910\n",
      "Epoch 70/100\n",
      "194798/194798 [==============================] - 28s 144us/step - loss: 0.4443 - accuracy: 0.7908\n",
      "Epoch 71/100\n",
      "194798/194798 [==============================] - 28s 144us/step - loss: 0.4442 - accuracy: 0.7907\n",
      "Epoch 72/100\n",
      "194798/194798 [==============================] - 28s 145us/step - loss: 0.4444 - accuracy: 0.7908\n",
      "Epoch 73/100\n",
      "194798/194798 [==============================] - 28s 145us/step - loss: 0.4443 - accuracy: 0.7906\n",
      "Epoch 74/100\n",
      "194798/194798 [==============================] - 26s 134us/step - loss: 0.4441 - accuracy: 0.7916\n",
      "Epoch 75/100\n",
      "194798/194798 [==============================] - 30s 152us/step - loss: 0.4442 - accuracy: 0.7911\n",
      "Epoch 76/100\n",
      "194798/194798 [==============================] - 28s 144us/step - loss: 0.4442 - accuracy: 0.7913\n",
      "Epoch 77/100\n",
      "194798/194798 [==============================] - 29s 147us/step - loss: 0.4439 - accuracy: 0.7907\n",
      "Epoch 78/100\n",
      "194798/194798 [==============================] - 28s 146us/step - loss: 0.4441 - accuracy: 0.7915\n",
      "Epoch 79/100\n",
      "194798/194798 [==============================] - 29s 148us/step - loss: 0.4438 - accuracy: 0.7911\n",
      "Epoch 80/100\n",
      "194798/194798 [==============================] - 29s 150us/step - loss: 0.4437 - accuracy: 0.7911\n",
      "Epoch 81/100\n",
      "194798/194798 [==============================] - 29s 147us/step - loss: 0.4439 - accuracy: 0.7910\n",
      "Epoch 82/100\n",
      "194798/194798 [==============================] - 29s 150us/step - loss: 0.4439 - accuracy: 0.7910\n",
      "Epoch 83/100\n",
      "194798/194798 [==============================] - 29s 149us/step - loss: 0.4438 - accuracy: 0.7912\n",
      "Epoch 84/100\n",
      "194798/194798 [==============================] - 29s 149us/step - loss: 0.4436 - accuracy: 0.7911\n",
      "Epoch 85/100\n",
      "194798/194798 [==============================] - 29s 149us/step - loss: 0.4434 - accuracy: 0.7915\n",
      "Epoch 86/100\n",
      "194798/194798 [==============================] - 29s 148us/step - loss: 0.4436 - accuracy: 0.7910\n",
      "Epoch 87/100\n",
      "194798/194798 [==============================] - 29s 149us/step - loss: 0.4435 - accuracy: 0.7918\n",
      "Epoch 88/100\n",
      "194798/194798 [==============================] - 29s 151us/step - loss: 0.4434 - accuracy: 0.7913\n",
      "Epoch 89/100\n",
      "194798/194798 [==============================] - 29s 149us/step - loss: 0.4433 - accuracy: 0.7918\n",
      "Epoch 90/100\n",
      "194798/194798 [==============================] - 29s 149us/step - loss: 0.4433 - accuracy: 0.7917\n",
      "Epoch 91/100\n",
      "194798/194798 [==============================] - 29s 149us/step - loss: 0.4433 - accuracy: 0.7916\n",
      "Epoch 92/100\n",
      "194798/194798 [==============================] - 29s 150us/step - loss: 0.4432 - accuracy: 0.7917\n",
      "Epoch 93/100\n",
      "194798/194798 [==============================] - 29s 149us/step - loss: 0.4435 - accuracy: 0.7917\n",
      "Epoch 94/100\n",
      "194798/194798 [==============================] - 29s 151us/step - loss: 0.4433 - accuracy: 0.7913\n",
      "Epoch 95/100\n",
      "194798/194798 [==============================] - 30s 152us/step - loss: 0.4432 - accuracy: 0.7916\n",
      "Epoch 96/100\n",
      "194798/194798 [==============================] - 30s 152us/step - loss: 0.4432 - accuracy: 0.7919\n",
      "Epoch 97/100\n",
      "194798/194798 [==============================] - 29s 151us/step - loss: 0.4432 - accuracy: 0.7917\n",
      "Epoch 98/100\n",
      "194798/194798 [==============================] - 30s 152us/step - loss: 0.4432 - accuracy: 0.7918\n",
      "Epoch 99/100\n",
      "194798/194798 [==============================] - 31s 157us/step - loss: 0.4432 - accuracy: 0.7916\n",
      "Epoch 100/100\n",
      "194798/194798 [==============================] - 30s 154us/step - loss: 0.4432 - accuracy: 0.7916\n"
     ]
    },
    {
     "data": {
      "text/plain": [
       "<keras.callbacks.callbacks.History at 0x1b20378c888>"
      ]
     },
     "execution_count": 79,
     "metadata": {},
     "output_type": "execute_result"
    }
   ],
   "source": [
    "model.fit(x, y, epochs=100, batch_size=15)"
   ]
  },
  {
   "cell_type": "markdown",
   "metadata": {},
   "source": [
    "# Step -4 :Model evaluation\n",
    "\n",
    "This is the **training** accuracy."
   ]
  },
  {
   "cell_type": "code",
   "execution_count": 80,
   "metadata": {},
   "outputs": [
    {
     "name": "stdout",
     "output_type": "stream",
     "text": [
      "38960/38960 [==============================] - 1s 19us/step\n",
      "\n",
      "accuracy: 79.29%\n"
     ]
    }
   ],
   "source": [
    "# evaluate the model\n",
    "scores = model.evaluate(x_test, y_test)\n",
    "print(\"\\n%s: %.2f%%\" % (model.metrics_names[1], scores[1]*100))"
   ]
  },
  {
   "cell_type": "markdown",
   "metadata": {},
   "source": [
    "Now we'll extract the predictions and compare the direction of error."
   ]
  },
  {
   "cell_type": "code",
   "execution_count": 81,
   "metadata": {},
   "outputs": [],
   "source": [
    "predictions = model.predict(x_test)\n",
    "rounded = [round(x[0]) for x in predictions]"
   ]
  },
  {
   "cell_type": "code",
   "execution_count": 82,
   "metadata": {},
   "outputs": [
    {
     "data": {
      "text/html": [
       "<div>\n",
       "<style scoped>\n",
       "    .dataframe tbody tr th:only-of-type {\n",
       "        vertical-align: middle;\n",
       "    }\n",
       "\n",
       "    .dataframe tbody tr th {\n",
       "        vertical-align: top;\n",
       "    }\n",
       "\n",
       "    .dataframe thead th {\n",
       "        text-align: right;\n",
       "    }\n",
       "</style>\n",
       "<table border=\"1\" class=\"dataframe\">\n",
       "  <thead>\n",
       "    <tr style=\"text-align: right;\">\n",
       "      <th>col_0</th>\n",
       "      <th>Residual</th>\n",
       "    </tr>\n",
       "    <tr>\n",
       "      <th>row_0</th>\n",
       "      <th></th>\n",
       "    </tr>\n",
       "  </thead>\n",
       "  <tbody>\n",
       "    <tr>\n",
       "      <td>-1.0</td>\n",
       "      <td>3491</td>\n",
       "    </tr>\n",
       "    <tr>\n",
       "      <td>0.0</td>\n",
       "      <td>30891</td>\n",
       "    </tr>\n",
       "    <tr>\n",
       "      <td>1.0</td>\n",
       "      <td>4578</td>\n",
       "    </tr>\n",
       "  </tbody>\n",
       "</table>\n",
       "</div>"
      ],
      "text/plain": [
       "col_0  Residual\n",
       "row_0          \n",
       "-1.0       3491\n",
       " 0.0      30891\n",
       " 1.0       4578"
      ]
     },
     "execution_count": 82,
     "metadata": {},
     "output_type": "execute_result"
    }
   ],
   "source": [
    "pd.crosstab(rounded-y_test,columns=\"Residual\")"
   ]
  },
  {
   "cell_type": "code",
   "execution_count": null,
   "metadata": {},
   "outputs": [],
   "source": []
  }
 ],
 "metadata": {
  "kernelspec": {
   "display_name": "Python 3",
   "language": "python",
   "name": "python3"
  },
  "language_info": {
   "codemirror_mode": {
    "name": "ipython",
    "version": 3
   },
   "file_extension": ".py",
   "mimetype": "text/x-python",
   "name": "python",
   "nbconvert_exporter": "python",
   "pygments_lexer": "ipython3",
   "version": "3.7.4"
  }
 },
 "nbformat": 4,
 "nbformat_minor": 2
}
