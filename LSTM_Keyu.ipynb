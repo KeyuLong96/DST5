{
 "cells": [
  {
   "cell_type": "code",
   "execution_count": 1,
   "metadata": {
    "colab": {
     "base_uri": "https://localhost:8080/",
     "height": 80
    },
    "colab_type": "code",
    "id": "M-rGV6SFunLT",
    "outputId": "ae926e45-312d-4dc4-daa9-dc86f0fec235"
   },
   "outputs": [
    {
     "data": {
      "text/html": [
       "<p style=\"color: red;\">\n",
       "The default version of TensorFlow in Colab will soon switch to TensorFlow 2.x.<br>\n",
       "We recommend you <a href=\"https://www.tensorflow.org/guide/migrate\" target=\"_blank\">upgrade</a> now \n",
       "or ensure your notebook will continue to use TensorFlow 1.x via the <code>%tensorflow_version 1.x</code> magic:\n",
       "<a href=\"https://colab.research.google.com/notebooks/tensorflow_version.ipynb\" target=\"_blank\">more info</a>.</p>\n"
      ],
      "text/plain": [
       "<IPython.core.display.HTML object>"
      ]
     },
     "metadata": {
      "tags": []
     },
     "output_type": "display_data"
    },
    {
     "name": "stderr",
     "output_type": "stream",
     "text": [
      "Using TensorFlow backend.\n"
     ]
    }
   ],
   "source": [
    "import pandas as pd\n",
    "import numpy as np\n",
    "\n",
    "import tensorflow as tf\n",
    "from keras.models import Sequential, Model, model_from_json, load_model"
   ]
  },
  {
   "cell_type": "code",
   "execution_count": 2,
   "metadata": {
    "colab": {
     "base_uri": "https://localhost:8080/",
     "height": 34
    },
    "colab_type": "code",
    "id": "27B9-qCAvyzD",
    "outputId": "5ca146fd-5c1f-458a-a47b-35413ba38eff"
   },
   "outputs": [
    {
     "name": "stdout",
     "output_type": "stream",
     "text": [
      "Drive already mounted at /content/drive; to attempt to forcibly remount, call drive.mount(\"/content/drive\", force_remount=True).\n"
     ]
    }
   ],
   "source": [
    "from google.colab import drive\n",
    "drive.mount('/content/drive')"
   ]
  },
  {
   "cell_type": "code",
   "execution_count": 3,
   "metadata": {
    "colab": {
     "base_uri": "https://localhost:8080/",
     "height": 359
    },
    "colab_type": "code",
    "id": "buwVoFOiunLY",
    "outputId": "214847e2-f9f1-41fa-e7c3-0992b21fb617"
   },
   "outputs": [
    {
     "data": {
      "text/html": [
       "<div>\n",
       "<style scoped>\n",
       "    .dataframe tbody tr th:only-of-type {\n",
       "        vertical-align: middle;\n",
       "    }\n",
       "\n",
       "    .dataframe tbody tr th {\n",
       "        vertical-align: top;\n",
       "    }\n",
       "\n",
       "    .dataframe thead th {\n",
       "        text-align: right;\n",
       "    }\n",
       "</style>\n",
       "<table border=\"1\" class=\"dataframe\">\n",
       "  <thead>\n",
       "    <tr style=\"text-align: right;\">\n",
       "      <th></th>\n",
       "      <th>url</th>\n",
       "      <th>isMalicious</th>\n",
       "    </tr>\n",
       "  </thead>\n",
       "  <tbody>\n",
       "    <tr>\n",
       "      <th>27746</th>\n",
       "      <td>epravda.com.ua/news/2017/03/21/622871</td>\n",
       "      <td>0</td>\n",
       "    </tr>\n",
       "    <tr>\n",
       "      <th>26991</th>\n",
       "      <td>wuerzburg.de/de/weitere-informationen/presse/b...</td>\n",
       "      <td>0</td>\n",
       "    </tr>\n",
       "    <tr>\n",
       "      <th>50087</th>\n",
       "      <td>eiseverywhere.com/event-software/support/custo...</td>\n",
       "      <td>0</td>\n",
       "    </tr>\n",
       "    <tr>\n",
       "      <th>60198</th>\n",
       "      <td>nowec.com/splist/1036355_1036524_1037319</td>\n",
       "      <td>0</td>\n",
       "    </tr>\n",
       "    <tr>\n",
       "      <th>103114</th>\n",
       "      <td>184.164.107.103/town11.pdf</td>\n",
       "      <td>1</td>\n",
       "    </tr>\n",
       "    <tr>\n",
       "      <th>36706</th>\n",
       "      <td>anhuiwangku.com/article1/article_detail.asp?id...</td>\n",
       "      <td>0</td>\n",
       "    </tr>\n",
       "    <tr>\n",
       "      <th>55599</th>\n",
       "      <td>quoteinvestigator.com/category/dan-montano</td>\n",
       "      <td>0</td>\n",
       "    </tr>\n",
       "    <tr>\n",
       "      <th>67515</th>\n",
       "      <td>ibicn.com/supply/i114101101</td>\n",
       "      <td>0</td>\n",
       "    </tr>\n",
       "    <tr>\n",
       "      <th>139937</th>\n",
       "      <td>fortunatogroupservice.com/includes/https:/aten...</td>\n",
       "      <td>1</td>\n",
       "    </tr>\n",
       "    <tr>\n",
       "      <th>137234</th>\n",
       "      <td>80port.net/zb/doc/file.index.htm/remax-securel...</td>\n",
       "      <td>1</td>\n",
       "    </tr>\n",
       "  </tbody>\n",
       "</table>\n",
       "</div>"
      ],
      "text/plain": [
       "                                                      url  isMalicious\n",
       "27746               epravda.com.ua/news/2017/03/21/622871            0\n",
       "26991   wuerzburg.de/de/weitere-informationen/presse/b...            0\n",
       "50087   eiseverywhere.com/event-software/support/custo...            0\n",
       "60198            nowec.com/splist/1036355_1036524_1037319            0\n",
       "103114                         184.164.107.103/town11.pdf            1\n",
       "36706   anhuiwangku.com/article1/article_detail.asp?id...            0\n",
       "55599          quoteinvestigator.com/category/dan-montano            0\n",
       "67515                         ibicn.com/supply/i114101101            0\n",
       "139937  fortunatogroupservice.com/includes/https:/aten...            1\n",
       "137234  80port.net/zb/doc/file.index.htm/remax-securel...            1"
      ]
     },
     "execution_count": 3,
     "metadata": {
      "tags": []
     },
     "output_type": "execute_result"
    }
   ],
   "source": [
    "## Load data URL\n",
    "df = pd.read_csv('/content/drive/My Drive/python/DST5-github/url_data.csv')\n",
    "df.sample(n=25).head(10) "
   ]
  },
  {
   "cell_type": "code",
   "execution_count": 4,
   "metadata": {
    "colab": {
     "base_uri": "https://localhost:8080/",
     "height": 34
    },
    "colab_type": "code",
    "id": "KB3MGi-6unLb",
    "outputId": "0172c638-8cd4-4837-9036-fed85d4d8fc1"
   },
   "outputs": [
    {
     "name": "stdout",
     "output_type": "stream",
     "text": [
      "Matrix dimensions of X:  (194798, 75) Vector dimension of target:  (194798,)\n"
     ]
    }
   ],
   "source": [
    "from string import printable\n",
    "from keras.preprocessing import sequence\n",
    "\n",
    "#this block refers online sources\n",
    "# Step 1: Convert raw URL string in list of lists where characters that are contained in \"printable\" are stored encoded as integer \n",
    "url_int_tokens = [[printable.index(x) + 1 for x in url if x in printable] for url in df.url]\n",
    "\n",
    "# Step 2: Cut URL string at max_len or pad with zeros if shorter\n",
    "max_len=75\n",
    "X = sequence.pad_sequences(url_int_tokens, maxlen=max_len)\n",
    " \n",
    "# Step 3: Extract labels form df to numpy array\n",
    "target = np.array(df.isMalicious)\n",
    "\n",
    "print('Matrix dimensions of X: ', X.shape, 'Vector dimension of target: ', target.shape)"
   ]
  },
  {
   "cell_type": "code",
   "execution_count": 0,
   "metadata": {
    "colab": {},
    "colab_type": "code",
    "id": "l0MoDrbmunLe"
   },
   "outputs": [],
   "source": [
    "from sklearn import model_selection\n",
    "\n",
    "# Simple Cross-Validation: Split the data set into training and test data\n",
    "X_train, X_test, target_train, target_test = model_selection.train_test_split(X, target, test_size=0.3, random_state=33)"
   ]
  },
  {
   "cell_type": "code",
   "execution_count": 0,
   "metadata": {
    "colab": {},
    "colab_type": "code",
    "id": "DG-wXpKAunLh"
   },
   "outputs": [],
   "source": [
    "# GENERAL get layer dimensions for any model!\n",
    "def print_layers_dims(model):\n",
    "    l_layers = model.layers\n",
    "    # Note None is ALWAYS batch_size\n",
    "    for i in range(len(l_layers)):\n",
    "        print(l_layers[i])\n",
    "        print('Input Shape: ', l_layers[i].input_shape, 'Output Shape: ', l_layers[i].output_shape)\n"
   ]
  },
  {
   "cell_type": "code",
   "execution_count": 7,
   "metadata": {
    "colab": {
     "base_uri": "https://localhost:8080/",
     "height": 343
    },
    "colab_type": "code",
    "id": "EyRV7HAounLk",
    "outputId": "32f12baa-58c3-4eb0-e9d9-26a1b453157a"
   },
   "outputs": [
    {
     "name": "stdout",
     "output_type": "stream",
     "text": [
      "WARNING:tensorflow:From /usr/local/lib/python3.6/dist-packages/keras/backend/tensorflow_backend.py:66: The name tf.get_default_graph is deprecated. Please use tf.compat.v1.get_default_graph instead.\n",
      "\n",
      "WARNING:tensorflow:From /usr/local/lib/python3.6/dist-packages/keras/backend/tensorflow_backend.py:541: The name tf.placeholder is deprecated. Please use tf.compat.v1.placeholder instead.\n",
      "\n",
      "WARNING:tensorflow:From /usr/local/lib/python3.6/dist-packages/keras/backend/tensorflow_backend.py:4432: The name tf.random_uniform is deprecated. Please use tf.random.uniform instead.\n",
      "\n",
      "WARNING:tensorflow:From /usr/local/lib/python3.6/dist-packages/keras/backend/tensorflow_backend.py:148: The name tf.placeholder_with_default is deprecated. Please use tf.compat.v1.placeholder_with_default instead.\n",
      "\n",
      "WARNING:tensorflow:From /usr/local/lib/python3.6/dist-packages/keras/backend/tensorflow_backend.py:3733: calling dropout (from tensorflow.python.ops.nn_ops) with keep_prob is deprecated and will be removed in a future version.\n",
      "Instructions for updating:\n",
      "Please use `rate` instead of `keep_prob`. Rate should be set to `rate = 1 - keep_prob`.\n",
      "WARNING:tensorflow:From /usr/local/lib/python3.6/dist-packages/keras/optimizers.py:793: The name tf.train.Optimizer is deprecated. Please use tf.compat.v1.train.Optimizer instead.\n",
      "\n",
      "WARNING:tensorflow:From /usr/local/lib/python3.6/dist-packages/keras/backend/tensorflow_backend.py:3657: The name tf.log is deprecated. Please use tf.math.log instead.\n",
      "\n",
      "WARNING:tensorflow:From /usr/local/lib/python3.6/dist-packages/tensorflow_core/python/ops/nn_impl.py:183: where (from tensorflow.python.ops.array_ops) is deprecated and will be removed in a future version.\n",
      "Instructions for updating:\n",
      "Use tf.where in 2.0, which has the same broadcast rule as np.where\n"
     ]
    }
   ],
   "source": [
    "from keras.models import Sequential\n",
    "from keras.layers import LSTM, Dense\n",
    "from keras.layers import Embedding,Dropout\n",
    "\n",
    "max_length=75\n",
    "embeding_dim=32\n",
    "lstm_output_size=32\n",
    "\n",
    "\n",
    "model = Sequential()\n",
    "model.add(Embedding(100, 32, input_length=max_length))\n",
    "# Prevent overfitting using dropout method of regularization\n",
    "model.add(Dropout(0.5))\n",
    "model.add(LSTM(32, recurrent_dropout=0.5))\n",
    "model.add(Dropout(0.5))\n",
    "# Condense to single binary output value\n",
    "model.add(Dense(1, activation='sigmoid'))\n",
    "\n",
    "model.compile(loss='binary_crossentropy', optimizer='adam', metrics=['accuracy'])"
   ]
  },
  {
   "cell_type": "code",
   "execution_count": 8,
   "metadata": {
    "colab": {
     "base_uri": "https://localhost:8080/",
     "height": 1000
    },
    "colab_type": "code",
    "id": "jdUmlKzPunLn",
    "outputId": "5f357f38-1511-4a8a-e405-9302d474ef29"
   },
   "outputs": [
    {
     "name": "stdout",
     "output_type": "stream",
     "text": [
      "WARNING:tensorflow:From /usr/local/lib/python3.6/dist-packages/keras/backend/tensorflow_backend.py:1033: The name tf.assign_add is deprecated. Please use tf.compat.v1.assign_add instead.\n",
      "\n",
      "WARNING:tensorflow:From /usr/local/lib/python3.6/dist-packages/keras/backend/tensorflow_backend.py:1020: The name tf.assign is deprecated. Please use tf.compat.v1.assign instead.\n",
      "\n",
      "WARNING:tensorflow:From /usr/local/lib/python3.6/dist-packages/keras/backend/tensorflow_backend.py:3005: The name tf.Session is deprecated. Please use tf.compat.v1.Session instead.\n",
      "\n",
      "Train on 109086 samples, validate on 27272 samples\n",
      "Epoch 1/100\n",
      "WARNING:tensorflow:From /usr/local/lib/python3.6/dist-packages/keras/backend/tensorflow_backend.py:190: The name tf.get_default_session is deprecated. Please use tf.compat.v1.get_default_session instead.\n",
      "\n",
      "WARNING:tensorflow:From /usr/local/lib/python3.6/dist-packages/keras/backend/tensorflow_backend.py:197: The name tf.ConfigProto is deprecated. Please use tf.compat.v1.ConfigProto instead.\n",
      "\n",
      "WARNING:tensorflow:From /usr/local/lib/python3.6/dist-packages/keras/backend/tensorflow_backend.py:207: The name tf.global_variables is deprecated. Please use tf.compat.v1.global_variables instead.\n",
      "\n",
      "WARNING:tensorflow:From /usr/local/lib/python3.6/dist-packages/keras/backend/tensorflow_backend.py:216: The name tf.is_variable_initialized is deprecated. Please use tf.compat.v1.is_variable_initialized instead.\n",
      "\n",
      "WARNING:tensorflow:From /usr/local/lib/python3.6/dist-packages/keras/backend/tensorflow_backend.py:223: The name tf.variables_initializer is deprecated. Please use tf.compat.v1.variables_initializer instead.\n",
      "\n",
      "109086/109086 [==============================] - 87s 794us/step - loss: 0.5134 - acc: 0.7505 - val_loss: 0.4622 - val_acc: 0.7787\n",
      "Epoch 2/100\n",
      "109086/109086 [==============================] - 85s 776us/step - loss: 0.4732 - acc: 0.7766 - val_loss: 0.4378 - val_acc: 0.7931\n",
      "Epoch 3/100\n",
      "109086/109086 [==============================] - 85s 784us/step - loss: 0.4506 - acc: 0.7917 - val_loss: 0.4109 - val_acc: 0.8113\n",
      "Epoch 4/100\n",
      "109086/109086 [==============================] - 85s 778us/step - loss: 0.4327 - acc: 0.8041 - val_loss: 0.3876 - val_acc: 0.8253\n",
      "Epoch 5/100\n",
      "109086/109086 [==============================] - 85s 781us/step - loss: 0.4131 - acc: 0.8159 - val_loss: 0.3651 - val_acc: 0.8403\n",
      "Epoch 6/100\n",
      "109086/109086 [==============================] - 87s 793us/step - loss: 0.3999 - acc: 0.8242 - val_loss: 0.3527 - val_acc: 0.8476\n",
      "Epoch 7/100\n",
      "109086/109086 [==============================] - 87s 798us/step - loss: 0.3871 - acc: 0.8324 - val_loss: 0.3329 - val_acc: 0.8571\n",
      "Epoch 8/100\n",
      "109086/109086 [==============================] - 86s 792us/step - loss: 0.3767 - acc: 0.8373 - val_loss: 0.3236 - val_acc: 0.8601\n",
      "Epoch 9/100\n",
      "109086/109086 [==============================] - 86s 786us/step - loss: 0.3689 - acc: 0.8429 - val_loss: 0.3120 - val_acc: 0.8675\n",
      "Epoch 10/100\n",
      "109086/109086 [==============================] - 85s 779us/step - loss: 0.3620 - acc: 0.8460 - val_loss: 0.3029 - val_acc: 0.8718\n",
      "Epoch 11/100\n",
      "109086/109086 [==============================] - 85s 784us/step - loss: 0.3536 - acc: 0.8507 - val_loss: 0.2987 - val_acc: 0.8730\n",
      "Epoch 12/100\n",
      "109086/109086 [==============================] - 85s 781us/step - loss: 0.3495 - acc: 0.8523 - val_loss: 0.2945 - val_acc: 0.8764\n",
      "Epoch 13/100\n",
      "109086/109086 [==============================] - 85s 778us/step - loss: 0.3432 - acc: 0.8562 - val_loss: 0.2878 - val_acc: 0.8792\n",
      "Epoch 14/100\n",
      "109086/109086 [==============================] - 85s 779us/step - loss: 0.3397 - acc: 0.8576 - val_loss: 0.2837 - val_acc: 0.8805\n",
      "Epoch 15/100\n",
      "109086/109086 [==============================] - 85s 778us/step - loss: 0.3342 - acc: 0.8606 - val_loss: 0.2823 - val_acc: 0.8818\n",
      "Epoch 16/100\n",
      "109086/109086 [==============================] - 85s 778us/step - loss: 0.3329 - acc: 0.8611 - val_loss: 0.2777 - val_acc: 0.8841\n",
      "Epoch 17/100\n",
      "109086/109086 [==============================] - 85s 778us/step - loss: 0.3301 - acc: 0.8632 - val_loss: 0.2760 - val_acc: 0.8844\n",
      "Epoch 18/100\n",
      "109086/109086 [==============================] - 85s 780us/step - loss: 0.3258 - acc: 0.8645 - val_loss: 0.2739 - val_acc: 0.8858\n",
      "Epoch 19/100\n",
      "109086/109086 [==============================] - 85s 779us/step - loss: 0.3241 - acc: 0.8657 - val_loss: 0.2670 - val_acc: 0.8897\n",
      "Epoch 20/100\n",
      "109086/109086 [==============================] - 85s 781us/step - loss: 0.3221 - acc: 0.8663 - val_loss: 0.2692 - val_acc: 0.8882\n",
      "Epoch 21/100\n",
      "109086/109086 [==============================] - 85s 778us/step - loss: 0.3178 - acc: 0.8684 - val_loss: 0.2636 - val_acc: 0.8911\n",
      "Epoch 22/100\n",
      "109086/109086 [==============================] - 84s 766us/step - loss: 0.3162 - acc: 0.8695 - val_loss: 0.2628 - val_acc: 0.8920\n",
      "Epoch 23/100\n",
      "109086/109086 [==============================] - 83s 764us/step - loss: 0.3137 - acc: 0.8706 - val_loss: 0.2585 - val_acc: 0.8938\n",
      "Epoch 24/100\n",
      "109086/109086 [==============================] - 83s 762us/step - loss: 0.3121 - acc: 0.8712 - val_loss: 0.2599 - val_acc: 0.8926\n",
      "Epoch 25/100\n",
      "109086/109086 [==============================] - 83s 765us/step - loss: 0.3088 - acc: 0.8728 - val_loss: 0.2566 - val_acc: 0.8945\n",
      "Epoch 26/100\n",
      "109086/109086 [==============================] - 86s 786us/step - loss: 0.3081 - acc: 0.8734 - val_loss: 0.2544 - val_acc: 0.8947\n",
      "Epoch 27/100\n",
      "109086/109086 [==============================] - 86s 788us/step - loss: 0.3041 - acc: 0.8757 - val_loss: 0.2534 - val_acc: 0.8961\n",
      "Epoch 28/100\n",
      "109086/109086 [==============================] - 86s 787us/step - loss: 0.3038 - acc: 0.8764 - val_loss: 0.2527 - val_acc: 0.8965\n",
      "Epoch 29/100\n",
      "109086/109086 [==============================] - 86s 787us/step - loss: 0.3025 - acc: 0.8757 - val_loss: 0.2529 - val_acc: 0.8962\n",
      "Epoch 30/100\n",
      "109086/109086 [==============================] - 86s 787us/step - loss: 0.3038 - acc: 0.8758 - val_loss: 0.2468 - val_acc: 0.8989\n",
      "Epoch 31/100\n",
      "109086/109086 [==============================] - 86s 786us/step - loss: 0.3008 - acc: 0.8758 - val_loss: 0.2510 - val_acc: 0.8966\n",
      "Epoch 32/100\n",
      "109086/109086 [==============================] - 86s 787us/step - loss: 0.2996 - acc: 0.8789 - val_loss: 0.2438 - val_acc: 0.8998\n",
      "Epoch 33/100\n",
      "109086/109086 [==============================] - 86s 789us/step - loss: 0.2983 - acc: 0.8783 - val_loss: 0.2485 - val_acc: 0.8980\n",
      "Epoch 34/100\n",
      "109086/109086 [==============================] - 87s 797us/step - loss: 0.2983 - acc: 0.8777 - val_loss: 0.2495 - val_acc: 0.8980\n",
      "Epoch 35/100\n",
      "109086/109086 [==============================] - 87s 795us/step - loss: 0.2959 - acc: 0.8788 - val_loss: 0.2453 - val_acc: 0.8992\n",
      "Epoch 36/100\n",
      "109086/109086 [==============================] - 87s 799us/step - loss: 0.2951 - acc: 0.8799 - val_loss: 0.2462 - val_acc: 0.8991\n",
      "Epoch 37/100\n",
      "109086/109086 [==============================] - 86s 787us/step - loss: 0.2952 - acc: 0.8789 - val_loss: 0.2438 - val_acc: 0.9010\n",
      "Epoch 38/100\n",
      "109086/109086 [==============================] - 86s 787us/step - loss: 0.2945 - acc: 0.8801 - val_loss: 0.2458 - val_acc: 0.8987\n",
      "Epoch 39/100\n",
      "109086/109086 [==============================] - 86s 788us/step - loss: 0.2934 - acc: 0.8801 - val_loss: 0.2439 - val_acc: 0.8992\n",
      "Epoch 40/100\n",
      "109086/109086 [==============================] - 86s 790us/step - loss: 0.2925 - acc: 0.8803 - val_loss: 0.2395 - val_acc: 0.9037\n",
      "Epoch 41/100\n",
      "109086/109086 [==============================] - 86s 788us/step - loss: 0.2907 - acc: 0.8813 - val_loss: 0.2407 - val_acc: 0.9007\n",
      "Epoch 42/100\n",
      "109086/109086 [==============================] - 86s 788us/step - loss: 0.2903 - acc: 0.8810 - val_loss: 0.2454 - val_acc: 0.9009\n",
      "Epoch 43/100\n",
      "109086/109086 [==============================] - 86s 786us/step - loss: 0.2899 - acc: 0.8818 - val_loss: 0.2397 - val_acc: 0.9019\n",
      "Epoch 44/100\n",
      "109086/109086 [==============================] - 85s 781us/step - loss: 0.2872 - acc: 0.8830 - val_loss: 0.2396 - val_acc: 0.9028\n",
      "Epoch 45/100\n",
      "109086/109086 [==============================] - 86s 785us/step - loss: 0.2889 - acc: 0.8833 - val_loss: 0.2394 - val_acc: 0.9028\n",
      "Epoch 46/100\n",
      "109086/109086 [==============================] - 85s 782us/step - loss: 0.2894 - acc: 0.8821 - val_loss: 0.2456 - val_acc: 0.8996\n",
      "Epoch 47/100\n",
      "109086/109086 [==============================] - 86s 785us/step - loss: 0.2872 - acc: 0.8839 - val_loss: 0.2390 - val_acc: 0.9029\n",
      "Epoch 48/100\n",
      "109086/109086 [==============================] - 86s 784us/step - loss: 0.2866 - acc: 0.8835 - val_loss: 0.2392 - val_acc: 0.9029\n",
      "Epoch 49/100\n",
      "109086/109086 [==============================] - 85s 782us/step - loss: 0.2868 - acc: 0.8839 - val_loss: 0.2371 - val_acc: 0.9043\n",
      "Epoch 50/100\n",
      "109086/109086 [==============================] - 86s 784us/step - loss: 0.2853 - acc: 0.8841 - val_loss: 0.2362 - val_acc: 0.9046\n",
      "Epoch 51/100\n",
      "109086/109086 [==============================] - 86s 788us/step - loss: 0.2848 - acc: 0.8850 - val_loss: 0.2328 - val_acc: 0.9059\n",
      "Epoch 52/100\n",
      "109086/109086 [==============================] - 86s 788us/step - loss: 0.2823 - acc: 0.8851 - val_loss: 0.2392 - val_acc: 0.9037\n",
      "Epoch 53/100\n",
      "109086/109086 [==============================] - 86s 785us/step - loss: 0.2837 - acc: 0.8844 - val_loss: 0.2345 - val_acc: 0.9054\n",
      "Epoch 54/100\n",
      "109086/109086 [==============================] - 86s 790us/step - loss: 0.2825 - acc: 0.8849 - val_loss: 0.2363 - val_acc: 0.9031\n",
      "Epoch 55/100\n",
      "109086/109086 [==============================] - 86s 788us/step - loss: 0.2832 - acc: 0.8851 - val_loss: 0.2384 - val_acc: 0.9035\n",
      "Epoch 56/100\n",
      "109086/109086 [==============================] - 87s 795us/step - loss: 0.2820 - acc: 0.8856 - val_loss: 0.2357 - val_acc: 0.9040\n",
      "Epoch 57/100\n",
      "109086/109086 [==============================] - 87s 801us/step - loss: 0.2828 - acc: 0.8852 - val_loss: 0.2310 - val_acc: 0.9055\n",
      "Epoch 58/100\n",
      "109086/109086 [==============================] - 88s 802us/step - loss: 0.2790 - acc: 0.8863 - val_loss: 0.2328 - val_acc: 0.9064\n",
      "Epoch 59/100\n",
      "109086/109086 [==============================] - 86s 788us/step - loss: 0.2794 - acc: 0.8863 - val_loss: 0.2339 - val_acc: 0.9058\n",
      "Epoch 60/100\n",
      "109086/109086 [==============================] - 86s 789us/step - loss: 0.2799 - acc: 0.8862 - val_loss: 0.2285 - val_acc: 0.9069\n",
      "Epoch 61/100\n",
      "109086/109086 [==============================] - 86s 791us/step - loss: 0.2796 - acc: 0.8866 - val_loss: 0.2334 - val_acc: 0.9053\n",
      "Epoch 62/100\n",
      "109086/109086 [==============================] - 86s 792us/step - loss: 0.2791 - acc: 0.8862 - val_loss: 0.2342 - val_acc: 0.9070\n",
      "Epoch 63/100\n",
      "109086/109086 [==============================] - 87s 797us/step - loss: 0.2780 - acc: 0.8868 - val_loss: 0.2280 - val_acc: 0.9083\n",
      "Epoch 64/100\n",
      "109086/109086 [==============================] - 87s 795us/step - loss: 0.2777 - acc: 0.8879 - val_loss: 0.2312 - val_acc: 0.9070\n",
      "Epoch 65/100\n",
      "109086/109086 [==============================] - 87s 797us/step - loss: 0.2771 - acc: 0.8871 - val_loss: 0.2267 - val_acc: 0.9085\n",
      "Epoch 66/100\n",
      "109086/109086 [==============================] - 86s 785us/step - loss: 0.2756 - acc: 0.8892 - val_loss: 0.2294 - val_acc: 0.9090\n",
      "Epoch 67/100\n",
      "109086/109086 [==============================] - 86s 785us/step - loss: 0.2766 - acc: 0.8870 - val_loss: 0.2238 - val_acc: 0.9097\n",
      "Epoch 68/100\n",
      "109086/109086 [==============================] - 86s 787us/step - loss: 0.2761 - acc: 0.8867 - val_loss: 0.2252 - val_acc: 0.9090\n",
      "Epoch 69/100\n",
      "109086/109086 [==============================] - 86s 789us/step - loss: 0.2747 - acc: 0.8895 - val_loss: 0.2258 - val_acc: 0.9091\n",
      "Epoch 70/100\n",
      "109086/109086 [==============================] - 85s 783us/step - loss: 0.2760 - acc: 0.8892 - val_loss: 0.2270 - val_acc: 0.9100\n",
      "Epoch 71/100\n",
      "109086/109086 [==============================] - 85s 783us/step - loss: 0.2769 - acc: 0.8871 - val_loss: 0.2233 - val_acc: 0.9108\n",
      "Epoch 72/100\n",
      "109086/109086 [==============================] - 86s 791us/step - loss: 0.2759 - acc: 0.8885 - val_loss: 0.2224 - val_acc: 0.9112\n",
      "Epoch 73/100\n",
      "109086/109086 [==============================] - 86s 786us/step - loss: 0.2747 - acc: 0.8882 - val_loss: 0.2255 - val_acc: 0.9098\n",
      "Epoch 74/100\n",
      "109086/109086 [==============================] - 86s 785us/step - loss: 0.2748 - acc: 0.8892 - val_loss: 0.2216 - val_acc: 0.9111\n",
      "Epoch 75/100\n",
      "109086/109086 [==============================] - 85s 783us/step - loss: 0.2727 - acc: 0.8891 - val_loss: 0.2209 - val_acc: 0.9112\n",
      "Epoch 76/100\n",
      "109086/109086 [==============================] - 86s 790us/step - loss: 0.2710 - acc: 0.8898 - val_loss: 0.2225 - val_acc: 0.9095\n",
      "Epoch 77/100\n",
      "109086/109086 [==============================] - 86s 786us/step - loss: 0.2726 - acc: 0.8904 - val_loss: 0.2231 - val_acc: 0.9109\n",
      "Epoch 78/100\n",
      "109086/109086 [==============================] - 85s 784us/step - loss: 0.2746 - acc: 0.8888 - val_loss: 0.2203 - val_acc: 0.9112\n",
      "Epoch 79/100\n",
      "109086/109086 [==============================] - 86s 786us/step - loss: 0.2713 - acc: 0.8894 - val_loss: 0.2200 - val_acc: 0.9114\n",
      "Epoch 80/100\n",
      "109086/109086 [==============================] - 86s 785us/step - loss: 0.2727 - acc: 0.8890 - val_loss: 0.2234 - val_acc: 0.9108\n",
      "Epoch 81/100\n",
      "  8550/109086 [=>............................] - ETA: 1:12 - loss: 0.2757 - acc: 0.8855Buffered data was truncated after reaching the output size limit."
     ]
    }
   ],
   "source": [
    "# Training set automatically split 8/2 to check validation loss/accuracy at each epoch\n",
    "history = model.fit(X_train, target_train, validation_split=0.2, epochs=100, batch_size=150,)\n"
   ]
  },
  {
   "cell_type": "code",
   "execution_count": 9,
   "metadata": {
    "colab": {
     "base_uri": "https://localhost:8080/",
     "height": 51
    },
    "colab_type": "code",
    "id": "bbdSOnVB43Dv",
    "outputId": "c6ac8482-d241-4533-f1e6-4fcc637c1766"
   },
   "outputs": [
    {
     "name": "stdout",
     "output_type": "stream",
     "text": [
      "58440/58440 [==============================] - 73s 1ms/step\n",
      "0.21658712552272646 0.9123887748117727\n"
     ]
    }
   ],
   "source": [
    "# Evaluation of separate test dataset performed after training\n",
    "score, acc = model.evaluate(X_test, target_test, verbose=1, batch_size=32)\n",
    "print(score,acc)"
   ]
  },
  {
   "cell_type": "code",
   "execution_count": 10,
   "metadata": {
    "colab": {
     "base_uri": "https://localhost:8080/",
     "height": 34
    },
    "colab_type": "code",
    "id": "lAS1wvwe55yX",
    "outputId": "ebc3aeae-2de1-4d81-f3cb-ba53ad8ffe1f"
   },
   "outputs": [
    {
     "name": "stdout",
     "output_type": "stream",
     "text": [
      "dict_keys(['val_loss', 'val_acc', 'loss', 'acc'])\n"
     ]
    }
   ],
   "source": [
    "# list all data in history\n",
    "print(history.history.keys())"
   ]
  },
  {
   "cell_type": "markdown",
   "metadata": {},
   "source": [
    "From the plot of accuracy we can see that the model could probably be trained a little more as the trend for accuracy on both datasets is still rising for the last few epochs. We can also see that the model has not yet over-learned the training dataset, showing comparable skill on both datasets."
   ]
  },
  {
   "cell_type": "code",
   "execution_count": 11,
   "metadata": {
    "colab": {
     "base_uri": "https://localhost:8080/",
     "height": 295
    },
    "colab_type": "code",
    "id": "jnKx8JGPunLp",
    "outputId": "c1f1e8a6-6e0e-4a66-e30f-f4790267457d"
   },
   "outputs": [
    {
     "data": {
      "image/png": "[encoded data removed]",
      "text/plain": [
       "<Figure size 432x288 with 1 Axes>"
      ]
     },
     "metadata": {
      "tags": []
     },
     "output_type": "display_data"
    }
   ],
   "source": [
    "import matplotlib.pyplot as plt\n",
    "\n",
    "# summarize history for accuracy\n",
    "plt.plot(history.history['acc'])\n",
    "plt.plot(history.history['val_acc'])\n",
    "plt.title('model accuracy')\n",
    "plt.ylabel('accuracy')\n",
    "plt.xlabel('epoch')\n",
    "plt.legend(['train', 'test'], loc='upper left')\n",
    "plt.show()"
   ]
  },
  {
   "cell_type": "markdown",
   "metadata": {},
   "source": [
    "From the plot of loss, we can see that the model has comparable performance on both train and test datasets. If these parallel plots start to depart consistently, it might be a sign to stop training at an earlier epoch."
   ]
  },
  {
   "cell_type": "code",
   "execution_count": 12,
   "metadata": {
    "colab": {
     "base_uri": "https://localhost:8080/",
     "height": 295
    },
    "colab_type": "code",
    "id": "1cCoXD68unLs",
    "outputId": "d191f243-69ff-4c85-a24e-b4a885f196fa"
   },
   "outputs": [
    {
     "data": {
      "image/png": "[encoded data removed]",
      "text/plain": [
       "<Figure size 432x288 with 1 Axes>"
      ]
     },
     "metadata": {
      "tags": []
     },
     "output_type": "display_data"
    }
   ],
   "source": [
    "# summarize history for loss\n",
    "plt.plot(history.history['loss'])\n",
    "plt.plot(history.history['val_loss'])\n",
    "plt.title('model loss')\n",
    "plt.ylabel('loss')\n",
    "plt.xlabel('epoch')\n",
    "plt.legend(['train', 'test'], loc='upper left')\n",
    "plt.show()"
   ]
  }
 ],
 "metadata": {
  "accelerator": "GPU",
  "colab": {
   "name": "DST5  -  Keyu .ipynb",
   "provenance": []
  },
  "kernelspec": {
   "display_name": "Python 3",
   "language": "python",
   "name": "python3"
  },
  "language_info": {
   "codemirror_mode": {
    "name": "ipython",
    "version": 3
   },
   "file_extension": ".py",
   "mimetype": "text/x-python",
   "name": "python",
   "nbconvert_exporter": "python",
   "pygments_lexer": "ipython3",
   "version": "3.7.4"
  }
 },
 "nbformat": 4,
 "nbformat_minor": 1
}
